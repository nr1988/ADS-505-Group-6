{
 "cells": [
  {
   "cell_type": "markdown",
   "metadata": {},
   "source": [
    "# Machine Learning Approach towards Predicting Default for Loan Applications\n",
    "### Nava Roohi, Abby Tan, Andrew Zazueta"
   ]
  },
  {
   "cell_type": "markdown",
   "metadata": {},
   "source": [
    "### GitHub Repository "
   ]
  },
  {
   "cell_type": "markdown",
   "metadata": {},
   "source": [
    "https://github.com/nr1988/ADS-505-Group-6"
   ]
  },
  {
   "cell_type": "markdown",
   "metadata": {},
   "source": [
    "### Problem Statement"
   ]
  },
  {
   "cell_type": "markdown",
   "metadata": {},
   "source": [
    "The purpose of this project is to utilize data preprocessing, machine learning, and model evaluation skills to \n",
    "correctly predict if customers are high risk at not paying back a loan using Python. This helps the financial \n",
    "institutions to minimize their losses by improving their application process."
   ]
  },
  {
   "cell_type": "markdown",
   "metadata": {},
   "source": [
    "### Libraries"
   ]
  },
  {
   "cell_type": "code",
   "execution_count": 27,
   "metadata": {},
   "outputs": [],
   "source": [
    "import pandas as pd\n",
    "from statistics import mode\n",
    "import os\n",
    "import seaborn as sn\n",
    "import matplotlib.pylab as plt\n",
    "from imblearn.combine import SMOTETomek\n",
    "from sklearn.metrics import accuracy_score\n",
    "from sklearn.metrics import precision_score\n",
    "from sklearn.metrics import recall_score\n",
    "from sklearn.metrics import f1_score\n",
    "from sklearn.metrics import roc_auc_score\n",
    "from sklearn.model_selection import train_test_split, GridSearchCV\n",
    "from sklearn.linear_model import LogisticRegression\n",
    "from sklearn.ensemble import BaggingClassifier\n",
    "from sklearn.ensemble import AdaBoostClassifier\n",
    "from sklearn.ensemble import RandomForestClassifier\n",
    "from dmba import classificationSummary, gainsChart\n",
    "from sklearn.discriminant_analysis import LinearDiscriminantAnalysis\n",
    "from sklearn.neural_network import MLPClassifier\n",
    "from sklearn.metrics import roc_curve, auc"
   ]
  },
  {
   "cell_type": "markdown",
   "metadata": {},
   "source": [
    "## EDA and Pre-processing"
   ]
  },
  {
   "cell_type": "markdown",
   "metadata": {},
   "source": [
    "### Loading in Data"
   ]
  },
  {
   "cell_type": "code",
   "execution_count": 2,
   "metadata": {},
   "outputs": [],
   "source": [
    "DATA_ROOT = 'C:/Users/mzazu/OneDrive/Documents/USD papers/505/505Project/application_train.csv'\n",
    "credit = pd.read_csv(os.path.join(DATA_ROOT, 'application_train.csv'))"
   ]
  },
  {
   "cell_type": "markdown",
   "metadata": {},
   "source": [
    "### Looking at Data"
   ]
  },
  {
   "cell_type": "markdown",
   "metadata": {},
   "source": [
    "#### Seeing data frame dimensions"
   ]
  },
  {
   "cell_type": "code",
   "execution_count": 33,
   "metadata": {},
   "outputs": [
    {
     "data": {
      "text/plain": [
       "(307511, 122)"
      ]
     },
     "execution_count": 33,
     "metadata": {},
     "output_type": "execute_result"
    }
   ],
   "source": [
    "credit.shape"
   ]
  },
  {
   "cell_type": "markdown",
   "metadata": {},
   "source": [
    "#### Looking at Percent NA' of columns"
   ]
  },
  {
   "cell_type": "code",
   "execution_count": 34,
   "metadata": {},
   "outputs": [
    {
     "data": {
      "text/plain": [
       "SK_ID_CURR                      0.00\n",
       "TARGET                          0.00\n",
       "NAME_CONTRACT_TYPE              0.00\n",
       "CODE_GENDER                     0.00\n",
       "FLAG_OWN_CAR                    0.00\n",
       "FLAG_OWN_REALTY                 0.00\n",
       "CNT_CHILDREN                    0.00\n",
       "AMT_INCOME_TOTAL                0.00\n",
       "AMT_CREDIT                      0.00\n",
       "AMT_ANNUITY                     0.00\n",
       "AMT_GOODS_PRICE                 0.09\n",
       "NAME_TYPE_SUITE                 0.42\n",
       "NAME_INCOME_TYPE                0.00\n",
       "NAME_EDUCATION_TYPE             0.00\n",
       "NAME_FAMILY_STATUS              0.00\n",
       "NAME_HOUSING_TYPE               0.00\n",
       "REGION_POPULATION_RELATIVE      0.00\n",
       "DAYS_BIRTH                      0.00\n",
       "DAYS_EMPLOYED                   0.00\n",
       "DAYS_REGISTRATION               0.00\n",
       "DAYS_ID_PUBLISH                 0.00\n",
       "OWN_CAR_AGE                    65.99\n",
       "FLAG_MOBIL                      0.00\n",
       "FLAG_EMP_PHONE                  0.00\n",
       "FLAG_WORK_PHONE                 0.00\n",
       "FLAG_CONT_MOBILE                0.00\n",
       "FLAG_PHONE                      0.00\n",
       "FLAG_EMAIL                      0.00\n",
       "OCCUPATION_TYPE                31.35\n",
       "CNT_FAM_MEMBERS                 0.00\n",
       "REGION_RATING_CLIENT            0.00\n",
       "REGION_RATING_CLIENT_W_CITY     0.00\n",
       "WEEKDAY_APPR_PROCESS_START      0.00\n",
       "HOUR_APPR_PROCESS_START         0.00\n",
       "REG_REGION_NOT_LIVE_REGION      0.00\n",
       "REG_REGION_NOT_WORK_REGION      0.00\n",
       "LIVE_REGION_NOT_WORK_REGION     0.00\n",
       "REG_CITY_NOT_LIVE_CITY          0.00\n",
       "REG_CITY_NOT_WORK_CITY          0.00\n",
       "LIVE_CITY_NOT_WORK_CITY         0.00\n",
       "ORGANIZATION_TYPE               0.00\n",
       "EXT_SOURCE_1                   56.38\n",
       "EXT_SOURCE_2                    0.21\n",
       "EXT_SOURCE_3                   19.83\n",
       "APARTMENTS_AVG                 50.75\n",
       "BASEMENTAREA_AVG               58.52\n",
       "YEARS_BEGINEXPLUATATION_AVG    48.78\n",
       "YEARS_BUILD_AVG                66.50\n",
       "COMMONAREA_AVG                 69.87\n",
       "ELEVATORS_AVG                  53.30\n",
       "dtype: float64"
      ]
     },
     "execution_count": 34,
     "metadata": {},
     "output_type": "execute_result"
    }
   ],
   "source": [
    "round(credit.iloc[:,0:50].isnull().sum() * 100/len(credit), 2)"
   ]
  },
  {
   "cell_type": "code",
   "execution_count": 35,
   "metadata": {},
   "outputs": [
    {
     "data": {
      "text/plain": [
       "ENTRANCES_AVG                   50.35\n",
       "FLOORSMAX_AVG                   49.76\n",
       "FLOORSMIN_AVG                   67.85\n",
       "LANDAREA_AVG                    59.38\n",
       "LIVINGAPARTMENTS_AVG            68.35\n",
       "LIVINGAREA_AVG                  50.19\n",
       "NONLIVINGAPARTMENTS_AVG         69.43\n",
       "NONLIVINGAREA_AVG               55.18\n",
       "APARTMENTS_MODE                 50.75\n",
       "BASEMENTAREA_MODE               58.52\n",
       "YEARS_BEGINEXPLUATATION_MODE    48.78\n",
       "YEARS_BUILD_MODE                66.50\n",
       "COMMONAREA_MODE                 69.87\n",
       "ELEVATORS_MODE                  53.30\n",
       "ENTRANCES_MODE                  50.35\n",
       "FLOORSMAX_MODE                  49.76\n",
       "FLOORSMIN_MODE                  67.85\n",
       "LANDAREA_MODE                   59.38\n",
       "LIVINGAPARTMENTS_MODE           68.35\n",
       "LIVINGAREA_MODE                 50.19\n",
       "NONLIVINGAPARTMENTS_MODE        69.43\n",
       "NONLIVINGAREA_MODE              55.18\n",
       "APARTMENTS_MEDI                 50.75\n",
       "BASEMENTAREA_MEDI               58.52\n",
       "YEARS_BEGINEXPLUATATION_MEDI    48.78\n",
       "YEARS_BUILD_MEDI                66.50\n",
       "COMMONAREA_MEDI                 69.87\n",
       "ELEVATORS_MEDI                  53.30\n",
       "ENTRANCES_MEDI                  50.35\n",
       "FLOORSMAX_MEDI                  49.76\n",
       "FLOORSMIN_MEDI                  67.85\n",
       "LANDAREA_MEDI                   59.38\n",
       "LIVINGAPARTMENTS_MEDI           68.35\n",
       "LIVINGAREA_MEDI                 50.19\n",
       "NONLIVINGAPARTMENTS_MEDI        69.43\n",
       "NONLIVINGAREA_MEDI              55.18\n",
       "FONDKAPREMONT_MODE              68.39\n",
       "HOUSETYPE_MODE                  50.18\n",
       "TOTALAREA_MODE                  48.27\n",
       "WALLSMATERIAL_MODE              50.84\n",
       "EMERGENCYSTATE_MODE             47.40\n",
       "OBS_30_CNT_SOCIAL_CIRCLE         0.33\n",
       "DEF_30_CNT_SOCIAL_CIRCLE         0.33\n",
       "OBS_60_CNT_SOCIAL_CIRCLE         0.33\n",
       "DEF_60_CNT_SOCIAL_CIRCLE         0.33\n",
       "DAYS_LAST_PHONE_CHANGE           0.00\n",
       "FLAG_DOCUMENT_2                  0.00\n",
       "FLAG_DOCUMENT_3                  0.00\n",
       "FLAG_DOCUMENT_4                  0.00\n",
       "FLAG_DOCUMENT_5                  0.00\n",
       "dtype: float64"
      ]
     },
     "execution_count": 35,
     "metadata": {},
     "output_type": "execute_result"
    }
   ],
   "source": [
    "round(credit.iloc[:,50:100].isnull().sum() * 100/len(credit), 2)"
   ]
  },
  {
   "cell_type": "code",
   "execution_count": 36,
   "metadata": {},
   "outputs": [
    {
     "data": {
      "text/plain": [
       "FLAG_DOCUMENT_6                0.0\n",
       "FLAG_DOCUMENT_7                0.0\n",
       "FLAG_DOCUMENT_8                0.0\n",
       "FLAG_DOCUMENT_9                0.0\n",
       "FLAG_DOCUMENT_10               0.0\n",
       "FLAG_DOCUMENT_11               0.0\n",
       "FLAG_DOCUMENT_12               0.0\n",
       "FLAG_DOCUMENT_13               0.0\n",
       "FLAG_DOCUMENT_14               0.0\n",
       "FLAG_DOCUMENT_15               0.0\n",
       "FLAG_DOCUMENT_16               0.0\n",
       "FLAG_DOCUMENT_17               0.0\n",
       "FLAG_DOCUMENT_18               0.0\n",
       "FLAG_DOCUMENT_19               0.0\n",
       "FLAG_DOCUMENT_20               0.0\n",
       "FLAG_DOCUMENT_21               0.0\n",
       "AMT_REQ_CREDIT_BUREAU_HOUR    13.5\n",
       "AMT_REQ_CREDIT_BUREAU_DAY     13.5\n",
       "AMT_REQ_CREDIT_BUREAU_WEEK    13.5\n",
       "AMT_REQ_CREDIT_BUREAU_MON     13.5\n",
       "AMT_REQ_CREDIT_BUREAU_QRT     13.5\n",
       "AMT_REQ_CREDIT_BUREAU_YEAR    13.5\n",
       "dtype: float64"
      ]
     },
     "execution_count": 36,
     "metadata": {},
     "output_type": "execute_result"
    }
   ],
   "source": [
    "round(credit.iloc[:,100:122].isnull().sum() * 100/len(credit), 2)"
   ]
  },
  {
   "cell_type": "markdown",
   "metadata": {},
   "source": [
    "#### Removing columns with over 30% data missing"
   ]
  },
  {
   "cell_type": "code",
   "execution_count": 37,
   "metadata": {},
   "outputs": [
    {
     "data": {
      "text/plain": [
       "(307511, 72)"
      ]
     },
     "execution_count": 37,
     "metadata": {},
     "output_type": "execute_result"
    }
   ],
   "source": [
    "# for loop and sees if the row has a value greater or equal to 30 and then stores the name of the column into col_name\n",
    "col = -1\n",
    "col_name = []\n",
    "for i in credit.isnull().sum() * 100/len(credit):\n",
    "    col = col + 1\n",
    "    if i >= 30:\n",
    "        col_name.append(credit.columns[col])\n",
    "        \n",
    "# dropping the columns found\n",
    "credit_df = credit.drop(col_name, axis = 1)\n",
    "credit_df.shape"
   ]
  },
  {
   "cell_type": "markdown",
   "metadata": {},
   "source": [
    "A total of 50 features were removed"
   ]
  },
  {
   "cell_type": "markdown",
   "metadata": {},
   "source": [
    "##### Removing ID"
   ]
  },
  {
   "cell_type": "code",
   "execution_count": 38,
   "metadata": {},
   "outputs": [],
   "source": [
    "credit_df = credit_df.drop(['SK_ID_CURR'], axis = 1)"
   ]
  },
  {
   "cell_type": "markdown",
   "metadata": {},
   "source": [
    "#### Seeing which columns are numeric"
   ]
  },
  {
   "cell_type": "code",
   "execution_count": 39,
   "metadata": {},
   "outputs": [
    {
     "data": {
      "text/plain": [
       "Index(['TARGET', 'CNT_CHILDREN', 'AMT_INCOME_TOTAL', 'AMT_CREDIT',\n",
       "       'AMT_ANNUITY', 'AMT_GOODS_PRICE', 'REGION_POPULATION_RELATIVE',\n",
       "       'DAYS_BIRTH', 'DAYS_EMPLOYED', 'DAYS_REGISTRATION', 'DAYS_ID_PUBLISH',\n",
       "       'FLAG_MOBIL', 'FLAG_EMP_PHONE', 'FLAG_WORK_PHONE', 'FLAG_CONT_MOBILE',\n",
       "       'FLAG_PHONE', 'FLAG_EMAIL', 'CNT_FAM_MEMBERS', 'REGION_RATING_CLIENT',\n",
       "       'REGION_RATING_CLIENT_W_CITY', 'HOUR_APPR_PROCESS_START',\n",
       "       'REG_REGION_NOT_LIVE_REGION', 'REG_REGION_NOT_WORK_REGION',\n",
       "       'LIVE_REGION_NOT_WORK_REGION', 'REG_CITY_NOT_LIVE_CITY',\n",
       "       'REG_CITY_NOT_WORK_CITY', 'LIVE_CITY_NOT_WORK_CITY', 'EXT_SOURCE_2',\n",
       "       'EXT_SOURCE_3', 'OBS_30_CNT_SOCIAL_CIRCLE', 'DEF_30_CNT_SOCIAL_CIRCLE',\n",
       "       'OBS_60_CNT_SOCIAL_CIRCLE', 'DEF_60_CNT_SOCIAL_CIRCLE',\n",
       "       'DAYS_LAST_PHONE_CHANGE', 'FLAG_DOCUMENT_2', 'FLAG_DOCUMENT_3',\n",
       "       'FLAG_DOCUMENT_4', 'FLAG_DOCUMENT_5', 'FLAG_DOCUMENT_6',\n",
       "       'FLAG_DOCUMENT_7', 'FLAG_DOCUMENT_8', 'FLAG_DOCUMENT_9',\n",
       "       'FLAG_DOCUMENT_10', 'FLAG_DOCUMENT_11', 'FLAG_DOCUMENT_12',\n",
       "       'FLAG_DOCUMENT_13', 'FLAG_DOCUMENT_14', 'FLAG_DOCUMENT_15',\n",
       "       'FLAG_DOCUMENT_16', 'FLAG_DOCUMENT_17', 'FLAG_DOCUMENT_18',\n",
       "       'FLAG_DOCUMENT_19', 'FLAG_DOCUMENT_20', 'FLAG_DOCUMENT_21',\n",
       "       'AMT_REQ_CREDIT_BUREAU_HOUR', 'AMT_REQ_CREDIT_BUREAU_DAY',\n",
       "       'AMT_REQ_CREDIT_BUREAU_WEEK', 'AMT_REQ_CREDIT_BUREAU_MON',\n",
       "       'AMT_REQ_CREDIT_BUREAU_QRT', 'AMT_REQ_CREDIT_BUREAU_YEAR'],\n",
       "      dtype='object')"
      ]
     },
     "execution_count": 39,
     "metadata": {},
     "output_type": "execute_result"
    }
   ],
   "source": [
    "cols = credit_df.columns\n",
    "num_cols = credit_df._get_numeric_data().columns\n",
    "num_cols"
   ]
  },
  {
   "cell_type": "markdown",
   "metadata": {},
   "source": [
    "##### If numeric columns have NA's present, the median of that column will replace the missing value"
   ]
  },
  {
   "cell_type": "code",
   "execution_count": 40,
   "metadata": {},
   "outputs": [],
   "source": [
    "credit_df = credit_df.fillna(credit_df.median())"
   ]
  },
  {
   "cell_type": "markdown",
   "metadata": {},
   "source": [
    "##### Creating dummy variables out of the categorical numeric features"
   ]
  },
  {
   "cell_type": "code",
   "execution_count": 41,
   "metadata": {},
   "outputs": [
    {
     "data": {
      "image/png": "[encoded data removed]",
      "text/plain": [
       "<Figure size 864x576 with 2 Axes>"
      ]
     },
     "metadata": {},
     "output_type": "display_data"
    }
   ],
   "source": [
    "REGION_RATING_CLIENT = pd.get_dummies(credit_df['REGION_RATING_CLIENT'], drop_first = True)\n",
    "REGION_RATING_CLIENT = REGION_RATING_CLIENT.rename(columns = {2:'rating_client2?', 3: 'rating_client3?'})\n",
    "REGION_RATING_CLIENT_W_CITY = pd.get_dummies(credit_df['REGION_RATING_CLIENT_W_CITY'], drop_first = True)\n",
    "REGION_RATING_CLIENT_W_CITY = REGION_RATING_CLIENT_W_CITY.rename(columns = {2:'rating_client_city2?',\n",
    "                                                                            3: 'rating_client_city3?'})\n",
    "dummies_region = pd.concat([REGION_RATING_CLIENT, REGION_RATING_CLIENT_W_CITY], axis = 1)\n",
    "corrMatrixDummy = dummies_region.corr()\n",
    "sn.heatmap(corrMatrixDummy, annot=False)\n",
    "plt.show()"
   ]
  },
  {
   "cell_type": "markdown",
   "metadata": {},
   "source": [
    "These dummy variables are correlated, so we will remove 'REGION_RATING_CLIENT_W_CITY' and only keep 'REGION_RATING_CLIENT'"
   ]
  },
  {
   "cell_type": "code",
   "execution_count": 42,
   "metadata": {},
   "outputs": [],
   "source": [
    "credit_df = credit_df.drop(['REGION_RATING_CLIENT_W_CITY', 'REGION_RATING_CLIENT'], axis = 1)\n",
    "credit_df = pd.concat([credit_df, REGION_RATING_CLIENT], axis = 1)"
   ]
  },
  {
   "cell_type": "markdown",
   "metadata": {},
   "source": [
    "##### Examining 'AMT_REQ_CREDIT_BUREAU' features"
   ]
  },
  {
   "cell_type": "code",
   "execution_count": 43,
   "metadata": {},
   "outputs": [
    {
     "data": {
      "image/png": "[encoded data removed]",
      "text/plain": [
       "<Figure size 864x576 with 6 Axes>"
      ]
     },
     "metadata": {},
     "output_type": "display_data"
    }
   ],
   "source": [
    "fig, axs = plt.subplots(3, 2)\n",
    "axs[0, 0].hist(credit_df['AMT_REQ_CREDIT_BUREAU_WEEK'])\n",
    "axs[0, 0].set_title(\"AMT_REQ_CREDIT_BUREAU_WEEK\")\n",
    "axs[1, 0].hist(credit_df['AMT_REQ_CREDIT_BUREAU_DAY'])\n",
    "axs[1, 0].set_title(\"AMT_REQ_CREDIT_BUREAU_DAY\")\n",
    "axs[2, 0].hist(credit_df['AMT_REQ_CREDIT_BUREAU_HOUR'])\n",
    "axs[2, 0].set_title(\"AMT_REQ_CREDIT_BUREAU_HOUR\")\n",
    "axs[0, 1].hist(credit_df['AMT_REQ_CREDIT_BUREAU_MON'])\n",
    "axs[0, 1].set_title(\"AMT_REQ_CREDIT_BUREAU_MON\")\n",
    "axs[1, 1].hist(credit_df['AMT_REQ_CREDIT_BUREAU_QRT'])\n",
    "axs[1, 1].set_title(\"AMT_REQ_CREDIT_BUREAU_QRT\")\n",
    "axs[2, 1].hist(credit_df['AMT_REQ_CREDIT_BUREAU_YEAR'])\n",
    "axs[2, 1].set_title(\"AMT_REQ_CREDIT_BUREAU_YEAR\")\n",
    "fig.tight_layout()"
   ]
  },
  {
   "cell_type": "markdown",
   "metadata": {},
   "source": [
    "This features are highly skewed with values mostly only taking the value 0, so they will be removed. "
   ]
  },
  {
   "cell_type": "code",
   "execution_count": 44,
   "metadata": {},
   "outputs": [],
   "source": [
    "credit_df = credit_df.drop(['AMT_REQ_CREDIT_BUREAU_WEEK', 'AMT_REQ_CREDIT_BUREAU_DAY', \n",
    "                            'AMT_REQ_CREDIT_BUREAU_HOUR', 'AMT_REQ_CREDIT_BUREAU_MON',\n",
    "                            'AMT_REQ_CREDIT_BUREAU_QRT', 'AMT_REQ_CREDIT_BUREAU_YEAR'], axis = 1)"
   ]
  },
  {
   "cell_type": "markdown",
   "metadata": {},
   "source": [
    "#### Seeing which features are not numeric"
   ]
  },
  {
   "cell_type": "code",
   "execution_count": 45,
   "metadata": {},
   "outputs": [
    {
     "data": {
      "text/plain": [
       "['NAME_CONTRACT_TYPE',\n",
       " 'NAME_HOUSING_TYPE',\n",
       " 'NAME_FAMILY_STATUS',\n",
       " 'FLAG_OWN_CAR',\n",
       " 'NAME_EDUCATION_TYPE',\n",
       " 'NAME_INCOME_TYPE',\n",
       " 'NAME_TYPE_SUITE',\n",
       " 'FLAG_OWN_REALTY',\n",
       " 'ORGANIZATION_TYPE',\n",
       " 'CODE_GENDER',\n",
       " 'WEEKDAY_APPR_PROCESS_START']"
      ]
     },
     "execution_count": 45,
     "metadata": {},
     "output_type": "execute_result"
    }
   ],
   "source": [
    "col_char = list(set(cols) - set(num_cols))\n",
    "col_char"
   ]
  },
  {
   "cell_type": "markdown",
   "metadata": {},
   "source": [
    "#### Examinig which to make binary variables and which to make dummy variables"
   ]
  },
  {
   "cell_type": "code",
   "execution_count": 46,
   "metadata": {},
   "outputs": [
    {
     "name": "stdout",
     "output_type": "stream",
     "text": [
      "       NAME_CONTRACT_TYPE  NAME_HOUSING_TYPE    NAME_FAMILY_STATUS  \\\n",
      "0              Cash loans  House / apartment  Single / not married   \n",
      "1              Cash loans  House / apartment               Married   \n",
      "2         Revolving loans  House / apartment  Single / not married   \n",
      "3              Cash loans  House / apartment        Civil marriage   \n",
      "4              Cash loans  House / apartment  Single / not married   \n",
      "...                   ...                ...                   ...   \n",
      "307506         Cash loans       With parents             Separated   \n",
      "307507         Cash loans  House / apartment                 Widow   \n",
      "307508         Cash loans  House / apartment             Separated   \n",
      "307509         Cash loans  House / apartment               Married   \n",
      "307510         Cash loans  House / apartment               Married   \n",
      "\n",
      "       FLAG_OWN_CAR            NAME_EDUCATION_TYPE      NAME_INCOME_TYPE  \\\n",
      "0                 N  Secondary / secondary special               Working   \n",
      "1                 N               Higher education         State servant   \n",
      "2                 Y  Secondary / secondary special               Working   \n",
      "3                 N  Secondary / secondary special               Working   \n",
      "4                 N  Secondary / secondary special               Working   \n",
      "...             ...                            ...                   ...   \n",
      "307506            N  Secondary / secondary special               Working   \n",
      "307507            N  Secondary / secondary special             Pensioner   \n",
      "307508            N               Higher education               Working   \n",
      "307509            N  Secondary / secondary special  Commercial associate   \n",
      "307510            N               Higher education  Commercial associate   \n",
      "\n",
      "       NAME_TYPE_SUITE FLAG_OWN_REALTY       ORGANIZATION_TYPE CODE_GENDER  \\\n",
      "0        Unaccompanied               Y  Business Entity Type 3           M   \n",
      "1               Family               N                  School           F   \n",
      "2        Unaccompanied               Y              Government           M   \n",
      "3        Unaccompanied               Y  Business Entity Type 3           F   \n",
      "4        Unaccompanied               Y                Religion           M   \n",
      "...                ...             ...                     ...         ...   \n",
      "307506   Unaccompanied               N                Services           M   \n",
      "307507   Unaccompanied               Y                     XNA           F   \n",
      "307508   Unaccompanied               Y                  School           F   \n",
      "307509   Unaccompanied               Y  Business Entity Type 1           F   \n",
      "307510   Unaccompanied               N  Business Entity Type 3           F   \n",
      "\n",
      "       WEEKDAY_APPR_PROCESS_START  \n",
      "0                       WEDNESDAY  \n",
      "1                          MONDAY  \n",
      "2                          MONDAY  \n",
      "3                       WEDNESDAY  \n",
      "4                        THURSDAY  \n",
      "...                           ...  \n",
      "307506                   THURSDAY  \n",
      "307507                     MONDAY  \n",
      "307508                   THURSDAY  \n",
      "307509                  WEDNESDAY  \n",
      "307510                   THURSDAY  \n",
      "\n",
      "[307511 rows x 11 columns]\n"
     ]
    }
   ],
   "source": [
    "print(credit_df[col_char])"
   ]
  },
  {
   "cell_type": "markdown",
   "metadata": {},
   "source": [
    "##### Changing 'FLAG_OWN_CAR'"
   ]
  },
  {
   "cell_type": "code",
   "execution_count": 47,
   "metadata": {},
   "outputs": [],
   "source": [
    "boolian = []\n",
    "for i in credit_df['FLAG_OWN_CAR']:\n",
    "    if i == 'N':\n",
    "        boolian.append(0)\n",
    "    else:\n",
    "        boolian.append(1)\n",
    "\n",
    "credit_df['FLAG_OWN_CAR'] = pd.DataFrame(boolian, columns=['FLAG_OWN_CAR'])"
   ]
  },
  {
   "cell_type": "markdown",
   "metadata": {},
   "source": [
    "##### Changing 'CODE_GENDER' (Male = 0, Female = 1)"
   ]
  },
  {
   "cell_type": "code",
   "execution_count": 48,
   "metadata": {},
   "outputs": [],
   "source": [
    "boolian = []\n",
    "for i in credit_df['CODE_GENDER']:\n",
    "    if i == 'M':\n",
    "        boolian.append(0)\n",
    "    else:\n",
    "        boolian.append(1)\n",
    "\n",
    "credit_df['CODE_GENDER'] = pd.DataFrame(boolian, columns=['CODE_GENDER'])"
   ]
  },
  {
   "cell_type": "markdown",
   "metadata": {},
   "source": [
    "##### Changing 'FLAG_OWN_REALTY'"
   ]
  },
  {
   "cell_type": "code",
   "execution_count": 49,
   "metadata": {},
   "outputs": [],
   "source": [
    "boolian = []\n",
    "for i in credit_df['FLAG_OWN_REALTY']:\n",
    "    if i == 'N':\n",
    "        boolian.append(0)\n",
    "    else:\n",
    "        boolian.append(1)\n",
    "\n",
    "credit_df['FLAG_OWN_REALTY'] = pd.DataFrame(boolian, columns=['FLAG_OWN_REALTY'])"
   ]
  },
  {
   "cell_type": "markdown",
   "metadata": {},
   "source": [
    "##### Changing 'NAME_CONTRACT_TYPE' (Cash loans = 0, Revolving loans = 1)"
   ]
  },
  {
   "cell_type": "code",
   "execution_count": 50,
   "metadata": {},
   "outputs": [],
   "source": [
    "boolian = []\n",
    "for i in credit_df['NAME_CONTRACT_TYPE']:\n",
    "    if i == 'Cash loans':\n",
    "        boolian.append(0)\n",
    "    else:\n",
    "        boolian.append(1)\n",
    "\n",
    "credit_df['NAME_CONTRACT_TYPE'] = pd.DataFrame(boolian, columns=['NAME_CONTRACT_TYPE'])"
   ]
  },
  {
   "cell_type": "markdown",
   "metadata": {},
   "source": [
    "##### Replacing the remaining NA column with the mode for the non numeric feature"
   ]
  },
  {
   "cell_type": "code",
   "execution_count": 51,
   "metadata": {},
   "outputs": [],
   "source": [
    "credit_df['NAME_TYPE_SUITE'] = credit_df['NAME_TYPE_SUITE'].fillna(credit_df['NAME_TYPE_SUITE'].mode()[0])"
   ]
  },
  {
   "cell_type": "markdown",
   "metadata": {},
   "source": [
    "##### Making Dummy Variables out of the rest of the categorical columns and putting it into new data frame"
   ]
  },
  {
   "cell_type": "code",
   "execution_count": 52,
   "metadata": {},
   "outputs": [],
   "source": [
    "dummy_cols = ['NAME_TYPE_SUITE', 'NAME_EDUCATION_TYPE', 'ORGANIZATION_TYPE', 'NAME_HOUSING_TYPE', \n",
    "              'NAME_FAMILY_STATUS', 'NAME_INCOME_TYPE', 'WEEKDAY_APPR_PROCESS_START']\n",
    "\n",
    "count = 0\n",
    "for i in dummy_cols:\n",
    "    count = count + 1\n",
    "    if count == 1:\n",
    "        dummies_new = pd.get_dummies(credit_df[i], drop_first=True)\n",
    "    else:\n",
    "        dummies = pd.get_dummies(credit_df[i], drop_first=True)\n",
    "        dummies_new = pd.concat([dummies_new, dummies], axis = 1)"
   ]
  },
  {
   "cell_type": "markdown",
   "metadata": {},
   "source": [
    "##### Removing old categorical features and adding dummy data frame"
   ]
  },
  {
   "cell_type": "code",
   "execution_count": 53,
   "metadata": {},
   "outputs": [],
   "source": [
    "credit_df = credit_df.drop(dummy_cols, axis = 1)\n",
    "credit_df = pd.concat([dummies_new, credit_df], axis = 1)"
   ]
  },
  {
   "cell_type": "markdown",
   "metadata": {},
   "source": [
    "#### Finding features which are not binary and looking at correlation"
   ]
  },
  {
   "cell_type": "code",
   "execution_count": 54,
   "metadata": {},
   "outputs": [],
   "source": [
    "col_name = []\n",
    "for i in credit_df.columns:\n",
    "    if len(credit_df[i].unique()) > 2:\n",
    "        col_name.append(i)"
   ]
  },
  {
   "cell_type": "code",
   "execution_count": 55,
   "metadata": {},
   "outputs": [
    {
     "data": {
      "image/png": "[encoded data removed]",
      "text/plain": [
       "<Figure size 864x576 with 2 Axes>"
      ]
     },
     "metadata": {},
     "output_type": "display_data"
    }
   ],
   "source": [
    "not_binary = credit_df[col_name]\n",
    "corrMatrix = not_binary.corr()\n",
    "sn.heatmap(corrMatrix, annot=False)\n",
    "plt.show()"
   ]
  },
  {
   "cell_type": "markdown",
   "metadata": {},
   "source": [
    "After looking at the plot, the correlated features that can be removed are 'OBS_60_CNT_SOCIAL_CIRCLE', 'DEF_60_CNT_SOCIAL_CIRCLE', 'AMT_GOODS_PRICE', 'AMT_ANNUITY', and 'CNT_FAM_MEMBERS'. "
   ]
  },
  {
   "cell_type": "code",
   "execution_count": 56,
   "metadata": {},
   "outputs": [],
   "source": [
    "credit_df = credit_df.drop([ 'OBS_60_CNT_SOCIAL_CIRCLE', 'DEF_60_CNT_SOCIAL_CIRCLE', 'AMT_GOODS_PRICE', \n",
    "                            'AMT_ANNUITY', 'CNT_FAM_MEMBERS'], axis = 1)"
   ]
  },
  {
   "cell_type": "code",
   "execution_count": 57,
   "metadata": {},
   "outputs": [
    {
     "data": {
      "text/plain": [
       "(307511, 143)"
      ]
     },
     "execution_count": 57,
     "metadata": {},
     "output_type": "execute_result"
    }
   ],
   "source": [
    "credit_df.shape"
   ]
  },
  {
   "cell_type": "markdown",
   "metadata": {},
   "source": [
    "#### Looking at 'TARGET' spread"
   ]
  },
  {
   "cell_type": "code",
   "execution_count": 58,
   "metadata": {},
   "outputs": [
    {
     "name": "stdout",
     "output_type": "stream",
     "text": [
      "Percent of 0s: 91.93\n",
      "\n",
      "Percent of 1s: 8.07\n"
     ]
    }
   ],
   "source": [
    "data = pd.DataFrame(credit_df['TARGET'])\n",
    "percentage1 = round((data.TARGET.sum() / data.shape[0]) * 100, 2)\n",
    "percentage0 = round(100 - percentage1, 2)\n",
    "\n",
    "print('Percent of 0s:', percentage0)\n",
    "print('\\nPercent of 1s:', percentage1)"
   ]
  },
  {
   "cell_type": "code",
   "execution_count": 59,
   "metadata": {},
   "outputs": [
    {
     "name": "stderr",
     "output_type": "stream",
     "text": [
      "C:\\Users\\mzazu\\miniconda3\\envs\\ADS500B\\lib\\site-packages\\seaborn\\_decorators.py:43: FutureWarning: Pass the following variable as a keyword arg: x. From version 0.12, the only valid positional argument will be `data`, and passing other arguments without an explicit keyword will result in an error or misinterpretation.\n",
      "  FutureWarning\n"
     ]
    },
    {
     "data": {
      "text/plain": [
       "<AxesSubplot:xlabel='TARGET', ylabel='count'>"
      ]
     },
     "execution_count": 59,
     "metadata": {},
     "output_type": "execute_result"
    },
    {
     "data": {
      "image/png": "[encoded data removed]",
      "text/plain": [
       "<Figure size 864x576 with 1 Axes>"
      ]
     },
     "metadata": {},
     "output_type": "display_data"
    }
   ],
   "source": [
    "sn.countplot(data['TARGET'])"
   ]
  },
  {
   "cell_type": "markdown",
   "metadata": {},
   "source": [
    "We can see that this is an imbalanced data set, so during our data splitting we will need to make sure to rebalance the training set. "
   ]
  },
  {
   "cell_type": "markdown",
   "metadata": {},
   "source": [
    "### Read final data frame to new CSV file"
   ]
  },
  {
   "cell_type": "code",
   "execution_count": 60,
   "metadata": {},
   "outputs": [],
   "source": [
    "credit_df.to_csv(os.path.join(DATA_ROOT, 'credit_df.csv'), index=False)"
   ]
  },
  {
   "cell_type": "markdown",
   "metadata": {},
   "source": [
    "## Models and Evaluation Metrics"
   ]
  },
  {
   "cell_type": "code",
   "execution_count": 3,
   "metadata": {},
   "outputs": [],
   "source": [
    "credit_df = pd.read_csv(os.path.join(DATA_ROOT, 'credit_df.csv'))"
   ]
  },
  {
   "cell_type": "markdown",
   "metadata": {},
   "source": [
    "### Modeling"
   ]
  },
  {
   "cell_type": "markdown",
   "metadata": {},
   "source": [
    "#### Partition the dataset into 60% training, 20% validation, and 20% test"
   ]
  },
  {
   "cell_type": "code",
   "execution_count": 4,
   "metadata": {},
   "outputs": [],
   "source": [
    "X = credit_df.drop(columns=['TARGET'])\n",
    "y = credit_df['TARGET']\n",
    "train_X, rem_X, train_y, rem_y = train_test_split(X, y, train_size=0.6, random_state=42, stratify = y)\n",
    "valid_X, test_X, valid_y, test_y = train_test_split(rem_X, rem_y, train_size=0.5, random_state=42, stratify = rem_y)"
   ]
  },
  {
   "cell_type": "code",
   "execution_count": 5,
   "metadata": {},
   "outputs": [
    {
     "name": "stdout",
     "output_type": "stream",
     "text": [
      "Training Set:\n",
      " 0    169611\n",
      "1     14895\n",
      "Name: TARGET, dtype: int64 \n",
      " 0    0.919271\n",
      "1    0.080729\n",
      "Name: TARGET, dtype: float64\n",
      "\n",
      "Validation Set:\n",
      " 0    56537\n",
      "1     4965\n",
      "Name: TARGET, dtype: int64 \n",
      " 0    0.919271\n",
      "1    0.080729\n",
      "Name: TARGET, dtype: float64\n",
      "\n",
      "Test Set:\n",
      " 0    56538\n",
      "1     4965\n",
      "Name: TARGET, dtype: int64 \n",
      " 0    0.919272\n",
      "1    0.080728\n",
      "Name: TARGET, dtype: float64\n"
     ]
    }
   ],
   "source": [
    "print('Training Set:\\n', train_y.value_counts(), '\\n', train_y.value_counts(normalize = True))\n",
    "print('\\nValidation Set:\\n', valid_y.value_counts(), '\\n', valid_y.value_counts(normalize = True))\n",
    "print('\\nTest Set:\\n', test_y.value_counts(), '\\n', test_y.value_counts(normalize = True))"
   ]
  },
  {
   "cell_type": "markdown",
   "metadata": {},
   "source": [
    "##### Resampling training set"
   ]
  },
  {
   "cell_type": "code",
   "execution_count": 6,
   "metadata": {},
   "outputs": [
    {
     "name": "stdout",
     "output_type": "stream",
     "text": [
      "Original dataset shape:\n",
      " 0    169611\n",
      "1     14895\n",
      "Name: TARGET, dtype: int64\n",
      "Resampled dataset shape:\n",
      " 1    166796\n",
      "0    166796\n",
      "Name: TARGET, dtype: int64\n"
     ]
    }
   ],
   "source": [
    "# Fixing the class imbalance with tomekLinks and SMOTE\n",
    "SMOTEtl = SMOTETomek(random_state = 42)\n",
    "\n",
    "# fit predictor and target variable for training set only\n",
    "train_X_res, train_y_res = SMOTEtl.fit_resample(train_X, train_y)\n",
    "\n",
    "print('Original dataset shape:\\n', train_y.value_counts())\n",
    "print('Resampled dataset shape:\\n', train_y_res.value_counts())"
   ]
  },
  {
   "cell_type": "markdown",
   "metadata": {},
   "source": [
    "##### Helper function"
   ]
  },
  {
   "cell_type": "code",
   "execution_count": 7,
   "metadata": {},
   "outputs": [],
   "source": [
    "def confusionMatrices(model, title):\n",
    "    print(title + ' - training results')\n",
    "    classificationSummary(train_y_res, model.predict(train_X_res))\n",
    "    print(title + ' - validation results')\n",
    "    valid_pred = model.predict(valid_X)\n",
    "    classificationSummary(valid_y, valid_pred)"
   ]
  },
  {
   "cell_type": "markdown",
   "metadata": {},
   "source": [
    "#### Logistic regression"
   ]
  },
  {
   "cell_type": "code",
   "execution_count": 8,
   "metadata": {},
   "outputs": [
    {
     "name": "stdout",
     "output_type": "stream",
     "text": [
      "Logistic regression - training results\n",
      "Confusion Matrix (Accuracy 0.5486)\n",
      "\n",
      "       Prediction\n",
      "Actual     0     1\n",
      "     0 98161 68635\n",
      "     1 81962 84834\n",
      "Logistic regression - validation results\n",
      "Confusion Matrix (Accuracy 0.5796)\n",
      "\n",
      "       Prediction\n",
      "Actual     0     1\n",
      "     0 33071 23466\n",
      "     1  2388  2577\n"
     ]
    }
   ],
   "source": [
    "logit_reg = LogisticRegression(penalty=\"l2\", C=1e42, solver='liblinear', random_state = 1)\n",
    "logit_reg.fit(train_X_res, train_y_res)\n",
    "confusionMatrices(logit_reg, 'Logistic regression')"
   ]
  },
  {
   "cell_type": "markdown",
   "metadata": {},
   "source": [
    "##### Test Set"
   ]
  },
  {
   "cell_type": "code",
   "execution_count": 9,
   "metadata": {},
   "outputs": [
    {
     "name": "stdout",
     "output_type": "stream",
     "text": [
      "Confusion Matrix (Accuracy 0.5789)\n",
      "\n",
      "       Prediction\n",
      "Actual     0     1\n",
      "     0 33031 23507\n",
      "     1  2394  2571\n"
     ]
    }
   ],
   "source": [
    "logit_pred = logit_reg.predict(test_X)\n",
    "classificationSummary(test_y, logit_pred)"
   ]
  },
  {
   "cell_type": "markdown",
   "metadata": {},
   "source": [
    "##### Evaluation Metrics"
   ]
  },
  {
   "cell_type": "code",
   "execution_count": 10,
   "metadata": {},
   "outputs": [
    {
     "name": "stdout",
     "output_type": "stream",
     "text": [
      "Precision: 0.098589\n",
      "Recall: 0.517825\n",
      "F1 score: 0.165641\n",
      "ROC AUC: 0.568793\n"
     ]
    }
   ],
   "source": [
    "# precision tp / (tp + fp)\n",
    "precision = precision_score(test_y, logit_pred)\n",
    "print('Precision: %f' % precision)\n",
    "# recall: tp / (tp + fn)\n",
    "recall = recall_score(test_y, logit_pred)\n",
    "print('Recall: %f' % recall)\n",
    "# f1: 2 tp / (2 tp + fp + fn)\n",
    "f1 = f1_score(test_y, logit_pred)\n",
    "print('F1 score: %f' % f1)\n",
    "# ROC AUC\n",
    "lr_probs = logit_reg.predict_proba(test_X)\n",
    "lr_probs = lr_probs[:, 1]\n",
    "auc = roc_auc_score(test_y, lr_probs)\n",
    "print('ROC AUC: %f' % auc)"
   ]
  },
  {
   "cell_type": "markdown",
   "metadata": {},
   "source": [
    "#### Bagging"
   ]
  },
  {
   "cell_type": "code",
   "execution_count": 11,
   "metadata": {},
   "outputs": [
    {
     "name": "stdout",
     "output_type": "stream",
     "text": [
      "Bagged Decision tree - training results\n",
      "Confusion Matrix (Accuracy 0.9759)\n",
      "\n",
      "       Prediction\n",
      "Actual      0      1\n",
      "     0 166685    111\n",
      "     1   7936 158860\n",
      "Bagged Decision tree - validation results\n",
      "Confusion Matrix (Accuracy 0.9124)\n",
      "\n",
      "       Prediction\n",
      "Actual     0     1\n",
      "     0 55992   545\n",
      "     1  4841   124\n"
     ]
    }
   ],
   "source": [
    "bagging = BaggingClassifier( max_samples=0.5, max_features=0.5, random_state = 1)\n",
    "bagging.fit(train_X_res, train_y_res)\n",
    "confusionMatrices(bagging, 'Bagged Decision tree')"
   ]
  },
  {
   "cell_type": "markdown",
   "metadata": {},
   "source": [
    "###### Test Set"
   ]
  },
  {
   "cell_type": "code",
   "execution_count": 12,
   "metadata": {},
   "outputs": [
    {
     "name": "stdout",
     "output_type": "stream",
     "text": [
      "Confusion Matrix (Accuracy 0.9130)\n",
      "\n",
      "       Prediction\n",
      "Actual     0     1\n",
      "     0 56033   505\n",
      "     1  4845   120\n"
     ]
    }
   ],
   "source": [
    "bagging_pred = bagging.predict(test_X)\n",
    "classificationSummary(test_y, bagging_pred)"
   ]
  },
  {
   "cell_type": "markdown",
   "metadata": {},
   "source": [
    "##### Evaluation Metrics"
   ]
  },
  {
   "cell_type": "code",
   "execution_count": 13,
   "metadata": {},
   "outputs": [
    {
     "name": "stdout",
     "output_type": "stream",
     "text": [
      "Precision: 0.192000\n",
      "Recall: 0.024169\n",
      "F1 score: 0.042934\n",
      "ROC AUC: 0.598841\n"
     ]
    }
   ],
   "source": [
    "# precision tp / (tp + fp)\n",
    "precision = precision_score(test_y, bagging_pred)\n",
    "print('Precision: %f' % precision)\n",
    "# recall: tp / (tp + fn)\n",
    "recall = recall_score(test_y, bagging_pred)\n",
    "print('Recall: %f' % recall)\n",
    "# f1: 2 tp / (2 tp + fp + fn)\n",
    "f1 = f1_score(test_y, bagging_pred)\n",
    "print('F1 score: %f' % f1)\n",
    "# ROC AUC\n",
    "bg_probs = bagging.predict_proba(test_X)\n",
    "bg_probs = bg_probs[:, 1]\n",
    "auc = roc_auc_score(test_y, bg_probs)\n",
    "print('ROC AUC: %f' % auc)"
   ]
  },
  {
   "cell_type": "markdown",
   "metadata": {},
   "source": [
    "#### Adaboost"
   ]
  },
  {
   "cell_type": "code",
   "execution_count": 14,
   "metadata": {},
   "outputs": [
    {
     "name": "stdout",
     "output_type": "stream",
     "text": [
      "Boosted decision tree - training results\n",
      "Confusion Matrix (Accuracy 0.9142)\n",
      "\n",
      "       Prediction\n",
      "Actual      0      1\n",
      "     0 153429  13367\n",
      "     1  15255 151541\n",
      "Boosted decision tree - validation results\n",
      "Confusion Matrix (Accuracy 0.8595)\n",
      "\n",
      "       Prediction\n",
      "Actual     0     1\n",
      "     0 52016  4521\n",
      "     1  4120   845\n"
     ]
    }
   ],
   "source": [
    "adaboost = AdaBoostClassifier(n_estimators=50,  random_state = 1)\n",
    "adaboost.fit(train_X_res, train_y_res)\n",
    "confusionMatrices(adaboost, 'Boosted decision tree')"
   ]
  },
  {
   "cell_type": "markdown",
   "metadata": {},
   "source": [
    "##### Test Set"
   ]
  },
  {
   "cell_type": "code",
   "execution_count": 15,
   "metadata": {},
   "outputs": [
    {
     "name": "stdout",
     "output_type": "stream",
     "text": [
      "Confusion Matrix (Accuracy 0.8609)\n",
      "\n",
      "       Prediction\n",
      "Actual     0     1\n",
      "     0 52112  4426\n",
      "     1  4127   838\n"
     ]
    }
   ],
   "source": [
    "adaboost_pred = adaboost.predict(test_X)\n",
    "classificationSummary(test_y, adaboost_pred)"
   ]
  },
  {
   "cell_type": "markdown",
   "metadata": {},
   "source": [
    "##### Evaluation Metrics"
   ]
  },
  {
   "cell_type": "code",
   "execution_count": 16,
   "metadata": {},
   "outputs": [
    {
     "name": "stdout",
     "output_type": "stream",
     "text": [
      "Precision: 0.159195\n",
      "Recall: 0.168781\n",
      "F1 score: 0.163848\n",
      "ROC AUC: 0.655630\n"
     ]
    }
   ],
   "source": [
    "# precision tp / (tp + fp)\n",
    "precision = precision_score(test_y, adaboost_pred)\n",
    "print('Precision: %f' % precision)\n",
    "# recall: tp / (tp + fn)\n",
    "recall = recall_score(test_y, adaboost_pred)\n",
    "print('Recall: %f' % recall)\n",
    "# f1: 2 tp / (2 tp + fp + fn)\n",
    "f1 = f1_score(test_y, adaboost_pred)\n",
    "print('F1 score: %f' % f1)\n",
    "# ROC AUC\n",
    "ab_probs = adaboost.predict_proba(test_X)\n",
    "ab_probs = ab_probs[:, 1]\n",
    "auc = roc_auc_score(test_y, ab_probs)\n",
    "print('ROC AUC: %f' % auc)"
   ]
  },
  {
   "cell_type": "markdown",
   "metadata": {},
   "source": [
    "#### Random Forest"
   ]
  },
  {
   "cell_type": "code",
   "execution_count": 17,
   "metadata": {},
   "outputs": [
    {
     "name": "stdout",
     "output_type": "stream",
     "text": [
      "Random Forest - training results\n",
      "Confusion Matrix (Accuracy 0.8906)\n",
      "\n",
      "       Prediction\n",
      "Actual      0      1\n",
      "     0 151105  15691\n",
      "     1  20812 145984\n",
      "Random Forest - validation results\n",
      "Confusion Matrix (Accuracy 0.8489)\n",
      "\n",
      "       Prediction\n",
      "Actual     0     1\n",
      "     0 51139  5398\n",
      "     1  3895  1070\n"
     ]
    }
   ],
   "source": [
    "RandomForest = RandomForestClassifier(n_estimators=500, random_state=1, max_depth = 6)\n",
    "RandomForest.fit(train_X_res, train_y_res)\n",
    "confusionMatrices(RandomForest, 'Random Forest')"
   ]
  },
  {
   "cell_type": "markdown",
   "metadata": {},
   "source": [
    "##### Test Set"
   ]
  },
  {
   "cell_type": "code",
   "execution_count": 18,
   "metadata": {},
   "outputs": [
    {
     "name": "stdout",
     "output_type": "stream",
     "text": [
      "Confusion Matrix (Accuracy 0.8522)\n",
      "\n",
      "       Prediction\n",
      "Actual     0     1\n",
      "     0 51309  5229\n",
      "     1  3860  1105\n"
     ]
    }
   ],
   "source": [
    "RandomForest_pred = RandomForest.predict(test_X)\n",
    "classificationSummary(test_y, RandomForest_pred)"
   ]
  },
  {
   "cell_type": "markdown",
   "metadata": {},
   "source": [
    "##### Evaluation Metrics"
   ]
  },
  {
   "cell_type": "code",
   "execution_count": 19,
   "metadata": {},
   "outputs": [
    {
     "name": "stdout",
     "output_type": "stream",
     "text": [
      "Precision: 0.174455\n",
      "Recall: 0.222558\n",
      "F1 score: 0.195593\n",
      "ROC AUC: 0.668388\n"
     ]
    }
   ],
   "source": [
    "# precision tp / (tp + fp)\n",
    "precision = precision_score(test_y, RandomForest_pred)\n",
    "print('Precision: %f' % precision)\n",
    "# recall: tp / (tp + fn)\n",
    "recall = recall_score(test_y, RandomForest_pred)\n",
    "print('Recall: %f' % recall)\n",
    "# f1: 2 tp / (2 tp + fp + fn)\n",
    "f1 = f1_score(test_y, RandomForest_pred)\n",
    "print('F1 score: %f' % f1)\n",
    "# ROC AUC\n",
    "rf_probs = RandomForest.predict_proba(test_X)\n",
    "rf_probs = rf_probs[:, 1]\n",
    "auc = roc_auc_score(test_y, rf_probs)\n",
    "print('ROC AUC: %f' % auc)"
   ]
  },
  {
   "cell_type": "markdown",
   "metadata": {},
   "source": [
    "#### Linear discriminant analysis"
   ]
  },
  {
   "cell_type": "code",
   "execution_count": 20,
   "metadata": {},
   "outputs": [
    {
     "name": "stdout",
     "output_type": "stream",
     "text": [
      "Linear discriminant analysis - training results\n",
      "Confusion Matrix (Accuracy 0.9421)\n",
      "\n",
      "       Prediction\n",
      "Actual      0      1\n",
      "     0 165581   1215\n",
      "     1  18096 148700\n",
      "Linear discriminant analysis - validation results\n",
      "Confusion Matrix (Accuracy 0.9144)\n",
      "\n",
      "       Prediction\n",
      "Actual     0     1\n",
      "     0 56122   415\n",
      "     1  4850   115\n"
     ]
    }
   ],
   "source": [
    "lda_Model = LinearDiscriminantAnalysis()\n",
    "lda_Model.fit(train_X_res, train_y_res)\n",
    "confusionMatrices(lda_Model, 'Linear discriminant analysis')"
   ]
  },
  {
   "cell_type": "markdown",
   "metadata": {},
   "source": [
    "##### Test Set"
   ]
  },
  {
   "cell_type": "code",
   "execution_count": 21,
   "metadata": {},
   "outputs": [
    {
     "name": "stdout",
     "output_type": "stream",
     "text": [
      "Confusion Matrix (Accuracy 0.9147)\n",
      "\n",
      "       Prediction\n",
      "Actual     0     1\n",
      "     0 56149   389\n",
      "     1  4856   109\n"
     ]
    }
   ],
   "source": [
    "lda_Model_pred = lda_Model.predict(test_X)\n",
    "classificationSummary(test_y, lda_Model_pred)"
   ]
  },
  {
   "cell_type": "markdown",
   "metadata": {},
   "source": [
    "##### Evaluation Metrics"
   ]
  },
  {
   "cell_type": "code",
   "execution_count": 22,
   "metadata": {},
   "outputs": [
    {
     "name": "stdout",
     "output_type": "stream",
     "text": [
      "Precision: 0.218876\n",
      "Recall: 0.021954\n",
      "F1 score: 0.039905\n",
      "ROC AUC: 0.639864\n"
     ]
    }
   ],
   "source": [
    "# precision tp / (tp + fp)\n",
    "precision = precision_score(test_y, lda_Model_pred )\n",
    "print('Precision: %f' % precision)\n",
    "# recall: tp / (tp + fn)\n",
    "recall = recall_score(test_y, lda_Model_pred )\n",
    "print('Recall: %f' % recall)\n",
    "# f1: 2 tp / (2 tp + fp + fn)\n",
    "f1 = f1_score(test_y, lda_Model_pred )\n",
    "print('F1 score: %f' % f1)\n",
    "# ROC AUC\n",
    "lda_probs = lda_Model.predict_proba(test_X)\n",
    "lda_probs = lda_probs[:, 1]\n",
    "auc = roc_auc_score(test_y, lda_probs)\n",
    "print('ROC AUC: %f' % auc)"
   ]
  },
  {
   "cell_type": "markdown",
   "metadata": {},
   "source": [
    "#### Neural Network"
   ]
  },
  {
   "cell_type": "code",
   "execution_count": 23,
   "metadata": {},
   "outputs": [
    {
     "name": "stdout",
     "output_type": "stream",
     "text": [
      "Neural Network - training results\n",
      "Confusion Matrix (Accuracy 0.5389)\n",
      "\n",
      "       Prediction\n",
      "Actual      0      1\n",
      "     0  63794 103002\n",
      "     1  50827 115969\n",
      "Neural Network - validation results\n",
      "Confusion Matrix (Accuracy 0.4064)\n",
      "\n",
      "       Prediction\n",
      "Actual     0     1\n",
      "     0 21588 34949\n",
      "     1  1556  3409\n"
     ]
    }
   ],
   "source": [
    "neuralNet = MLPClassifier(hidden_layer_sizes=(5), activation='logistic', solver='lbfgs', max_iter=2000, \n",
    "                          random_state=1)\n",
    "neuralNet.fit(train_X_res, train_y_res)\n",
    "confusionMatrices(neuralNet, 'Neural Network')"
   ]
  },
  {
   "cell_type": "markdown",
   "metadata": {},
   "source": [
    "##### Test Set"
   ]
  },
  {
   "cell_type": "code",
   "execution_count": 24,
   "metadata": {},
   "outputs": [
    {
     "name": "stdout",
     "output_type": "stream",
     "text": [
      "Confusion Matrix (Accuracy 0.4112)\n",
      "\n",
      "       Prediction\n",
      "Actual     0     1\n",
      "     0 21822 34716\n",
      "     1  1499  3466\n"
     ]
    }
   ],
   "source": [
    "neuralNet_pred = neuralNet.predict(test_X)\n",
    "classificationSummary(test_y, neuralNet_pred )"
   ]
  },
  {
   "cell_type": "markdown",
   "metadata": {},
   "source": [
    "##### Evaluation Metrics"
   ]
  },
  {
   "cell_type": "code",
   "execution_count": 25,
   "metadata": {},
   "outputs": [
    {
     "name": "stdout",
     "output_type": "stream",
     "text": [
      "Precision: 0.090776\n",
      "Recall: 0.698087\n",
      "F1 score: 0.160660\n",
      "ROC AUC: 0.542171\n"
     ]
    }
   ],
   "source": [
    "# precision tp / (tp + fp)\n",
    "precision = precision_score(test_y, neuralNet_pred )\n",
    "print('Precision: %f' % precision)\n",
    "# recall: tp / (tp + fn)\n",
    "recall = recall_score(test_y, neuralNet_pred )\n",
    "print('Recall: %f' % recall)\n",
    "# f1: 2 tp / (2 tp + fp + fn)\n",
    "f1 = f1_score(test_y, neuralNet_pred )\n",
    "print('F1 score: %f' % f1)\n",
    "# ROC AUC\n",
    "nn_probs = neuralNet.predict_proba(test_X)\n",
    "nn_probs = nn_probs[:, 1]\n",
    "auc = roc_auc_score(test_y, nn_probs)\n",
    "print('ROC AUC: %f' % auc)"
   ]
  },
  {
   "cell_type": "markdown",
   "metadata": {},
   "source": [
    "### Final Model Selection: Random Forest"
   ]
  },
  {
   "cell_type": "code",
   "execution_count": 26,
   "metadata": {},
   "outputs": [
    {
     "name": "stdout",
     "output_type": "stream",
     "text": [
      "No Skill: ROC AUC=0.500\n",
      "Random Forest: ROC AUC=0.668\n"
     ]
    },
    {
     "data": {
      "image/png": "[encoded data removed]",
      "text/plain": [
       "<Figure size 432x288 with 1 Axes>"
      ]
     },
     "metadata": {
      "needs_background": "light"
     },
     "output_type": "display_data"
    }
   ],
   "source": [
    "# generate a no skill prediction (majority class)\n",
    "ns_probs = [0 for _ in range(len(test_y))]\n",
    "# calculate scores\n",
    "ns_auc = roc_auc_score(test_y, ns_probs)\n",
    "rf_auc = roc_auc_score(test_y, rf_probs)\n",
    "# summarize scores\n",
    "print('No Skill: ROC AUC=%.3f' % (ns_auc))\n",
    "print('Random Forest: ROC AUC=%.3f' % (rf_auc))\n",
    "# calculate roc curves\n",
    "ns_fpr, ns_tpr, _ = roc_curve(test_y, ns_probs)\n",
    "lr_fpr, lr_tpr, _ = roc_curve(test_y, rf_probs)\n",
    "# plot the roc curve for the model\n",
    "plt.plot(ns_fpr, ns_tpr, linestyle='--', label='No Skill')\n",
    "plt.plot(lr_fpr, lr_tpr, marker='.', label='Random Forest')\n",
    "# axis labels\n",
    "plt.xlabel('False Positive Rate')\n",
    "plt.ylabel('True Positive Rate')\n",
    "# show the legend\n",
    "plt.legend()\n",
    "# show the plot\n",
    "plt.show()"
   ]
  },
  {
   "cell_type": "markdown",
   "metadata": {},
   "source": [
    "#### Lift Charts"
   ]
  },
  {
   "cell_type": "code",
   "execution_count": 27,
   "metadata": {},
   "outputs": [
    {
     "data": {
      "text/plain": [
       "<AxesSubplot:title={'center':'Bagging'}, xlabel='# records', ylabel='# cumulative gains'>"
      ]
     },
     "execution_count": 27,
     "metadata": {},
     "output_type": "execute_result"
    },
    {
     "data": {
      "image/png": "[encoded data removed]",
      "text/plain": [
       "<Figure size 864x864 with 6 Axes>"
      ]
     },
     "metadata": {
      "needs_background": "light"
     },
     "output_type": "display_data"
    }
   ],
   "source": [
    "fig, axes = plt.subplots(nrows=2, ncols=3, figsize=(12, 12))\n",
    "\n",
    "def modelGainsChart(model, title, ax=None):\n",
    "    result = pd.DataFrame({\n",
    "        'actual': test_y,\n",
    "        'prob': model.predict_proba(test_X)[:, 1]\n",
    "    })\n",
    "\n",
    "    result = result.sort_values(by=['prob'], ascending=False).reset_index(drop=True)\n",
    "    ax = gainsChart(result.actual, ax=ax)\n",
    "    ax.set_title(title)\n",
    "    return ax\n",
    "\n",
    "modelGainsChart(RandomForest, 'Random Forest', axes[0,0])\n",
    "modelGainsChart(lda_Model, 'Linear Discriminant Analysis', axes[0,1])\n",
    "modelGainsChart(logit_reg, 'Logistic regression', axes[0,2])\n",
    "modelGainsChart(neuralNet, 'Neural network', axes[1,0])\n",
    "modelGainsChart(adaboost, 'Adaboost', axes[1,1])\n",
    "modelGainsChart(bagging, 'Bagging', axes[1,2])"
   ]
  },
  {
   "cell_type": "markdown",
   "metadata": {},
   "source": [
    "#### Table of ML Metrics"
   ]
  },
  {
   "cell_type": "code",
   "execution_count": 32,
   "metadata": {},
   "outputs": [
    {
     "data": {
      "text/html": [
       "<div>\n",
       "<style scoped>\n",
       "    .dataframe tbody tr th:only-of-type {\n",
       "        vertical-align: middle;\n",
       "    }\n",
       "\n",
       "    .dataframe tbody tr th {\n",
       "        vertical-align: top;\n",
       "    }\n",
       "\n",
       "    .dataframe thead th {\n",
       "        text-align: right;\n",
       "    }\n",
       "</style>\n",
       "<table border=\"1\" class=\"dataframe\">\n",
       "  <thead>\n",
       "    <tr style=\"text-align: right;\">\n",
       "      <th></th>\n",
       "      <th>Models</th>\n",
       "      <th>Accuracy</th>\n",
       "      <th>Precision</th>\n",
       "      <th>Recall</th>\n",
       "      <th>F1_Score</th>\n",
       "      <th>ROC AUC</th>\n",
       "    </tr>\n",
       "  </thead>\n",
       "  <tbody>\n",
       "    <tr>\n",
       "      <th>0</th>\n",
       "      <td>Logistic Regression</td>\n",
       "      <td>0.578866</td>\n",
       "      <td>0.098589</td>\n",
       "      <td>0.517825</td>\n",
       "      <td>0.165641</td>\n",
       "      <td>0.568793</td>\n",
       "    </tr>\n",
       "    <tr>\n",
       "      <th>1</th>\n",
       "      <td>Bagging</td>\n",
       "      <td>0.913012</td>\n",
       "      <td>0.192000</td>\n",
       "      <td>0.024169</td>\n",
       "      <td>0.042934</td>\n",
       "      <td>0.598841</td>\n",
       "    </tr>\n",
       "    <tr>\n",
       "      <th>2</th>\n",
       "      <td>Ada boost</td>\n",
       "      <td>0.860934</td>\n",
       "      <td>0.159195</td>\n",
       "      <td>0.168781</td>\n",
       "      <td>0.163848</td>\n",
       "      <td>0.655630</td>\n",
       "    </tr>\n",
       "    <tr>\n",
       "      <th>3</th>\n",
       "      <td>Random Forest</td>\n",
       "      <td>0.852219</td>\n",
       "      <td>0.174455</td>\n",
       "      <td>0.222558</td>\n",
       "      <td>0.195593</td>\n",
       "      <td>0.668388</td>\n",
       "    </tr>\n",
       "    <tr>\n",
       "      <th>4</th>\n",
       "      <td>Linear discriminant analysis</td>\n",
       "      <td>0.914720</td>\n",
       "      <td>0.218876</td>\n",
       "      <td>0.021954</td>\n",
       "      <td>0.039905</td>\n",
       "      <td>0.639864</td>\n",
       "    </tr>\n",
       "    <tr>\n",
       "      <th>5</th>\n",
       "      <td>Neural Network</td>\n",
       "      <td>0.411167</td>\n",
       "      <td>0.090776</td>\n",
       "      <td>0.698087</td>\n",
       "      <td>0.160660</td>\n",
       "      <td>0.542171</td>\n",
       "    </tr>\n",
       "  </tbody>\n",
       "</table>\n",
       "</div>"
      ],
      "text/plain": [
       "                         Models  Accuracy  Precision    Recall  F1_Score  \\\n",
       "0           Logistic Regression  0.578866   0.098589  0.517825  0.165641   \n",
       "1                       Bagging  0.913012   0.192000  0.024169  0.042934   \n",
       "2                     Ada boost  0.860934   0.159195  0.168781  0.163848   \n",
       "3                 Random Forest  0.852219   0.174455  0.222558  0.195593   \n",
       "4  Linear discriminant analysis  0.914720   0.218876  0.021954  0.039905   \n",
       "5                Neural Network  0.411167   0.090776  0.698087  0.160660   \n",
       "\n",
       "    ROC AUC  \n",
       "0  0.568793  \n",
       "1  0.598841  \n",
       "2  0.655630  \n",
       "3  0.668388  \n",
       "4  0.639864  \n",
       "5  0.542171  "
      ]
     },
     "execution_count": 32,
     "metadata": {},
     "output_type": "execute_result"
    }
   ],
   "source": [
    "table = {'Models':[\"Logistic Regression\",\n",
    "                   \"Bagging\",\"Ada boost\",\n",
    "                   \"Random Forest\",\"Linear discriminant analysis\",\n",
    "                   \"Neural Network\"],\n",
    "         'Accuracy':[accuracy_score(test_y, logit_pred),\n",
    "                     accuracy_score(test_y, bagging_pred),\n",
    "                     accuracy_score(test_y, adaboost_pred),\n",
    "                     accuracy_score(test_y, RandomForest_pred),\n",
    "                     accuracy_score(test_y, lda_Model_pred),\n",
    "                     accuracy_score(test_y, neuralNet_pred)],\n",
    "         \n",
    "         'Precision':[precision_score(test_y, logit_pred),\n",
    "                      precision_score(test_y, bagging_pred),\n",
    "                      precision_score(test_y, adaboost_pred),\n",
    "                      precision_score(test_y, RandomForest_pred),\n",
    "                      precision_score(test_y, lda_Model_pred),\n",
    "                      precision_score(test_y, neuralNet_pred) ],\n",
    "         \n",
    "         \"Recall\":[recall_score(test_y, logit_pred),\n",
    "                   recall_score(test_y, bagging_pred),\n",
    "                   recall_score(test_y, adaboost_pred),\n",
    "                   recall_score(test_y, RandomForest_pred),\n",
    "                   recall_score(test_y,  lda_Model_pred),\n",
    "                   recall_score(test_y,neuralNet_pred)],\n",
    "         \n",
    "         \"F1_Score\":[f1_score(test_y, logit_pred),\n",
    "                     f1_score(test_y, bagging_pred),\n",
    "                     f1_score(test_y, adaboost_pred),\n",
    "                     f1_score(test_y, RandomForest_pred),\n",
    "                     f1_score(test_y,  lda_Model_pred),\n",
    "                     f1_score(test_y,neuralNet_pred)],\n",
    "                  \n",
    "         \"ROC AUC\":[roc_auc_score(test_y, lr_probs),\n",
    "                    roc_auc_score(test_y, bg_probs),\n",
    "                    roc_auc_score(test_y, ab_probs),\n",
    "                    roc_auc_score(test_y, rf_probs),\n",
    "                    roc_auc_score(test_y,  lda_probs),\n",
    "                    roc_auc_score(test_y,  nn_probs)]\n",
    "        }\n",
    "         \n",
    "         \n",
    "                              \n",
    "table_report = pd.DataFrame(table)\n",
    " \n",
    "# print the data \n",
    "table_report"
   ]
  },
  {
   "cell_type": "markdown",
   "metadata": {},
   "source": [
    "### Discussion and Conclusion "
   ]
  },
  {
   "cell_type": "markdown",
   "metadata": {},
   "source": [
    "Overall, the models did worse than a baseline model regarding accuracy (baseline model accuracy = 91.93%). Precision, Recall, and F1 score were also extremely underwhelming. The imbalanced nature of the data set created issues which impacted the performance of the models’ predictive abilities. The model of choice was Random Forest for having the best ROC AUC of 0.67. \n",
    "\n",
    "In the future, improvements on feature selection would greatly help the test set metrics. For example, using PCA can help eliminate features which do not have much predictive power. Also, seeing which features each model relied the heaviest on to make predictions can help decide what other columns to eliminate. When data wrangling, it is important to make changes to some features for specific models. For example, when using a linear model like logistic regression, features with low correlation to the predictor can typically be removed. Plus, transforming features to make them more linear can also help the model make predictions. However, with nonlinear models, these nonlinear features can be important and should not be removed or transformed unless the model calls for it (e.g., centering and scaling for KNN). \n",
    "\n",
    "One mistake that was made during the modeling stage was looking only at accuracy when deciding the best hyperparameters to use. Instead, the AUROC of the validation set should have been examined each test to find the largest area and thus improve the metric that Home Credit was interested in. Other issues that stem from this study are ethical concerns regarding leaving in the gender feature for our models. Making changes to these problems in the future would improve the evaluation metrics and give more reliable insights to Home Credit."
   ]
  }
 ],
 "metadata": {
  "kernelspec": {
   "display_name": "Python 3",
   "language": "python",
   "name": "python3"
  },
  "language_info": {
   "codemirror_mode": {
    "name": "ipython",
    "version": 3
   },
   "file_extension": ".py",
   "mimetype": "text/x-python",
   "name": "python",
   "nbconvert_exporter": "python",
   "pygments_lexer": "ipython3",
   "version": "3.7.8"
  }
 },
 "nbformat": 4,
 "nbformat_minor": 4
}
