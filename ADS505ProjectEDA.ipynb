{
 "cells": [
  {
   "cell_type": "markdown",
   "metadata": {},
   "source": [
    "## EDA and Pre-processing for Predicting at Risk Customers on Defaulting a Loan"
   ]
  },
  {
   "cell_type": "markdown",
   "metadata": {},
   "source": [
    "### Libraries"
   ]
  },
  {
   "cell_type": "code",
   "execution_count": 37,
   "metadata": {},
   "outputs": [],
   "source": [
    "import pandas as pd\n",
    "from statistics import mode\n",
    "import os\n",
    "import seaborn as sn\n",
    "import matplotlib.pylab as plt"
   ]
  },
  {
   "cell_type": "markdown",
   "metadata": {},
   "source": [
    "### Loading in Data"
   ]
  },
  {
   "cell_type": "code",
   "execution_count": 4,
   "metadata": {},
   "outputs": [],
   "source": [
    "DATA_ROOT = 'C:/Users/mzazu/OneDrive/Documents/USD papers/505/505Project/application_train.csv'\n",
    "credit = pd.read_csv(os.path.join(DATA_ROOT, 'application_train.csv'))"
   ]
  },
  {
   "cell_type": "markdown",
   "metadata": {},
   "source": [
    "### Looking at Data"
   ]
  },
  {
   "cell_type": "markdown",
   "metadata": {},
   "source": [
    "#### Seeing data frame dimensions"
   ]
  },
  {
   "cell_type": "code",
   "execution_count": 5,
   "metadata": {},
   "outputs": [
    {
     "data": {
      "text/plain": [
       "(307511, 122)"
      ]
     },
     "execution_count": 5,
     "metadata": {},
     "output_type": "execute_result"
    }
   ],
   "source": [
    "credit.shape"
   ]
  },
  {
   "cell_type": "markdown",
   "metadata": {},
   "source": [
    "#### Looking at Percent NA' of columns"
   ]
  },
  {
   "cell_type": "code",
   "execution_count": 6,
   "metadata": {},
   "outputs": [
    {
     "data": {
      "text/plain": [
       "SK_ID_CURR                      0.00\n",
       "TARGET                          0.00\n",
       "NAME_CONTRACT_TYPE              0.00\n",
       "CODE_GENDER                     0.00\n",
       "FLAG_OWN_CAR                    0.00\n",
       "FLAG_OWN_REALTY                 0.00\n",
       "CNT_CHILDREN                    0.00\n",
       "AMT_INCOME_TOTAL                0.00\n",
       "AMT_CREDIT                      0.00\n",
       "AMT_ANNUITY                     0.00\n",
       "AMT_GOODS_PRICE                 0.09\n",
       "NAME_TYPE_SUITE                 0.42\n",
       "NAME_INCOME_TYPE                0.00\n",
       "NAME_EDUCATION_TYPE             0.00\n",
       "NAME_FAMILY_STATUS              0.00\n",
       "NAME_HOUSING_TYPE               0.00\n",
       "REGION_POPULATION_RELATIVE      0.00\n",
       "DAYS_BIRTH                      0.00\n",
       "DAYS_EMPLOYED                   0.00\n",
       "DAYS_REGISTRATION               0.00\n",
       "DAYS_ID_PUBLISH                 0.00\n",
       "OWN_CAR_AGE                    65.99\n",
       "FLAG_MOBIL                      0.00\n",
       "FLAG_EMP_PHONE                  0.00\n",
       "FLAG_WORK_PHONE                 0.00\n",
       "FLAG_CONT_MOBILE                0.00\n",
       "FLAG_PHONE                      0.00\n",
       "FLAG_EMAIL                      0.00\n",
       "OCCUPATION_TYPE                31.35\n",
       "CNT_FAM_MEMBERS                 0.00\n",
       "REGION_RATING_CLIENT            0.00\n",
       "REGION_RATING_CLIENT_W_CITY     0.00\n",
       "WEEKDAY_APPR_PROCESS_START      0.00\n",
       "HOUR_APPR_PROCESS_START         0.00\n",
       "REG_REGION_NOT_LIVE_REGION      0.00\n",
       "REG_REGION_NOT_WORK_REGION      0.00\n",
       "LIVE_REGION_NOT_WORK_REGION     0.00\n",
       "REG_CITY_NOT_LIVE_CITY          0.00\n",
       "REG_CITY_NOT_WORK_CITY          0.00\n",
       "LIVE_CITY_NOT_WORK_CITY         0.00\n",
       "ORGANIZATION_TYPE               0.00\n",
       "EXT_SOURCE_1                   56.38\n",
       "EXT_SOURCE_2                    0.21\n",
       "EXT_SOURCE_3                   19.83\n",
       "APARTMENTS_AVG                 50.75\n",
       "BASEMENTAREA_AVG               58.52\n",
       "YEARS_BEGINEXPLUATATION_AVG    48.78\n",
       "YEARS_BUILD_AVG                66.50\n",
       "COMMONAREA_AVG                 69.87\n",
       "ELEVATORS_AVG                  53.30\n",
       "dtype: float64"
      ]
     },
     "execution_count": 6,
     "metadata": {},
     "output_type": "execute_result"
    }
   ],
   "source": [
    "round(credit.iloc[:,0:50].isnull().sum() * 100/len(credit), 2)"
   ]
  },
  {
   "cell_type": "code",
   "execution_count": 7,
   "metadata": {},
   "outputs": [
    {
     "data": {
      "text/plain": [
       "ENTRANCES_AVG                   50.35\n",
       "FLOORSMAX_AVG                   49.76\n",
       "FLOORSMIN_AVG                   67.85\n",
       "LANDAREA_AVG                    59.38\n",
       "LIVINGAPARTMENTS_AVG            68.35\n",
       "LIVINGAREA_AVG                  50.19\n",
       "NONLIVINGAPARTMENTS_AVG         69.43\n",
       "NONLIVINGAREA_AVG               55.18\n",
       "APARTMENTS_MODE                 50.75\n",
       "BASEMENTAREA_MODE               58.52\n",
       "YEARS_BEGINEXPLUATATION_MODE    48.78\n",
       "YEARS_BUILD_MODE                66.50\n",
       "COMMONAREA_MODE                 69.87\n",
       "ELEVATORS_MODE                  53.30\n",
       "ENTRANCES_MODE                  50.35\n",
       "FLOORSMAX_MODE                  49.76\n",
       "FLOORSMIN_MODE                  67.85\n",
       "LANDAREA_MODE                   59.38\n",
       "LIVINGAPARTMENTS_MODE           68.35\n",
       "LIVINGAREA_MODE                 50.19\n",
       "NONLIVINGAPARTMENTS_MODE        69.43\n",
       "NONLIVINGAREA_MODE              55.18\n",
       "APARTMENTS_MEDI                 50.75\n",
       "BASEMENTAREA_MEDI               58.52\n",
       "YEARS_BEGINEXPLUATATION_MEDI    48.78\n",
       "YEARS_BUILD_MEDI                66.50\n",
       "COMMONAREA_MEDI                 69.87\n",
       "ELEVATORS_MEDI                  53.30\n",
       "ENTRANCES_MEDI                  50.35\n",
       "FLOORSMAX_MEDI                  49.76\n",
       "FLOORSMIN_MEDI                  67.85\n",
       "LANDAREA_MEDI                   59.38\n",
       "LIVINGAPARTMENTS_MEDI           68.35\n",
       "LIVINGAREA_MEDI                 50.19\n",
       "NONLIVINGAPARTMENTS_MEDI        69.43\n",
       "NONLIVINGAREA_MEDI              55.18\n",
       "FONDKAPREMONT_MODE              68.39\n",
       "HOUSETYPE_MODE                  50.18\n",
       "TOTALAREA_MODE                  48.27\n",
       "WALLSMATERIAL_MODE              50.84\n",
       "EMERGENCYSTATE_MODE             47.40\n",
       "OBS_30_CNT_SOCIAL_CIRCLE         0.33\n",
       "DEF_30_CNT_SOCIAL_CIRCLE         0.33\n",
       "OBS_60_CNT_SOCIAL_CIRCLE         0.33\n",
       "DEF_60_CNT_SOCIAL_CIRCLE         0.33\n",
       "DAYS_LAST_PHONE_CHANGE           0.00\n",
       "FLAG_DOCUMENT_2                  0.00\n",
       "FLAG_DOCUMENT_3                  0.00\n",
       "FLAG_DOCUMENT_4                  0.00\n",
       "FLAG_DOCUMENT_5                  0.00\n",
       "dtype: float64"
      ]
     },
     "execution_count": 7,
     "metadata": {},
     "output_type": "execute_result"
    }
   ],
   "source": [
    "round(credit.iloc[:,50:100].isnull().sum() * 100/len(credit), 2)"
   ]
  },
  {
   "cell_type": "code",
   "execution_count": 8,
   "metadata": {},
   "outputs": [
    {
     "data": {
      "text/plain": [
       "FLAG_DOCUMENT_6                0.0\n",
       "FLAG_DOCUMENT_7                0.0\n",
       "FLAG_DOCUMENT_8                0.0\n",
       "FLAG_DOCUMENT_9                0.0\n",
       "FLAG_DOCUMENT_10               0.0\n",
       "FLAG_DOCUMENT_11               0.0\n",
       "FLAG_DOCUMENT_12               0.0\n",
       "FLAG_DOCUMENT_13               0.0\n",
       "FLAG_DOCUMENT_14               0.0\n",
       "FLAG_DOCUMENT_15               0.0\n",
       "FLAG_DOCUMENT_16               0.0\n",
       "FLAG_DOCUMENT_17               0.0\n",
       "FLAG_DOCUMENT_18               0.0\n",
       "FLAG_DOCUMENT_19               0.0\n",
       "FLAG_DOCUMENT_20               0.0\n",
       "FLAG_DOCUMENT_21               0.0\n",
       "AMT_REQ_CREDIT_BUREAU_HOUR    13.5\n",
       "AMT_REQ_CREDIT_BUREAU_DAY     13.5\n",
       "AMT_REQ_CREDIT_BUREAU_WEEK    13.5\n",
       "AMT_REQ_CREDIT_BUREAU_MON     13.5\n",
       "AMT_REQ_CREDIT_BUREAU_QRT     13.5\n",
       "AMT_REQ_CREDIT_BUREAU_YEAR    13.5\n",
       "dtype: float64"
      ]
     },
     "execution_count": 8,
     "metadata": {},
     "output_type": "execute_result"
    }
   ],
   "source": [
    "round(credit.iloc[:,100:122].isnull().sum() * 100/len(credit), 2)"
   ]
  },
  {
   "cell_type": "markdown",
   "metadata": {},
   "source": [
    "#### Removing columns with over 30% data missing"
   ]
  },
  {
   "cell_type": "code",
   "execution_count": 9,
   "metadata": {},
   "outputs": [
    {
     "data": {
      "text/plain": [
       "(307511, 72)"
      ]
     },
     "execution_count": 9,
     "metadata": {},
     "output_type": "execute_result"
    }
   ],
   "source": [
    "# for loop and sees if the row has a value greater or equal to 30 and then stores the name of the column into col_name\n",
    "col = -1\n",
    "col_name = []\n",
    "for i in credit.isnull().sum() * 100/len(credit):\n",
    "    col = col + 1\n",
    "    if i >= 30:\n",
    "        col_name.append(credit.columns[col])\n",
    "        \n",
    "# dropping the columns found\n",
    "credit_df = credit.drop(col_name, axis = 1)\n",
    "credit_df.shape"
   ]
  },
  {
   "cell_type": "markdown",
   "metadata": {},
   "source": [
    "A total of 50 features were removed"
   ]
  },
  {
   "cell_type": "markdown",
   "metadata": {},
   "source": [
    "##### Removing ID"
   ]
  },
  {
   "cell_type": "code",
   "execution_count": 10,
   "metadata": {},
   "outputs": [],
   "source": [
    "credit_df = credit_df.drop(['SK_ID_CURR'], axis = 1)"
   ]
  },
  {
   "cell_type": "markdown",
   "metadata": {},
   "source": [
    "#### Seeing which columns are numeric"
   ]
  },
  {
   "cell_type": "code",
   "execution_count": 11,
   "metadata": {},
   "outputs": [
    {
     "data": {
      "text/plain": [
       "Index(['TARGET', 'CNT_CHILDREN', 'AMT_INCOME_TOTAL', 'AMT_CREDIT',\n",
       "       'AMT_ANNUITY', 'AMT_GOODS_PRICE', 'REGION_POPULATION_RELATIVE',\n",
       "       'DAYS_BIRTH', 'DAYS_EMPLOYED', 'DAYS_REGISTRATION', 'DAYS_ID_PUBLISH',\n",
       "       'FLAG_MOBIL', 'FLAG_EMP_PHONE', 'FLAG_WORK_PHONE', 'FLAG_CONT_MOBILE',\n",
       "       'FLAG_PHONE', 'FLAG_EMAIL', 'CNT_FAM_MEMBERS', 'REGION_RATING_CLIENT',\n",
       "       'REGION_RATING_CLIENT_W_CITY', 'HOUR_APPR_PROCESS_START',\n",
       "       'REG_REGION_NOT_LIVE_REGION', 'REG_REGION_NOT_WORK_REGION',\n",
       "       'LIVE_REGION_NOT_WORK_REGION', 'REG_CITY_NOT_LIVE_CITY',\n",
       "       'REG_CITY_NOT_WORK_CITY', 'LIVE_CITY_NOT_WORK_CITY', 'EXT_SOURCE_2',\n",
       "       'EXT_SOURCE_3', 'OBS_30_CNT_SOCIAL_CIRCLE', 'DEF_30_CNT_SOCIAL_CIRCLE',\n",
       "       'OBS_60_CNT_SOCIAL_CIRCLE', 'DEF_60_CNT_SOCIAL_CIRCLE',\n",
       "       'DAYS_LAST_PHONE_CHANGE', 'FLAG_DOCUMENT_2', 'FLAG_DOCUMENT_3',\n",
       "       'FLAG_DOCUMENT_4', 'FLAG_DOCUMENT_5', 'FLAG_DOCUMENT_6',\n",
       "       'FLAG_DOCUMENT_7', 'FLAG_DOCUMENT_8', 'FLAG_DOCUMENT_9',\n",
       "       'FLAG_DOCUMENT_10', 'FLAG_DOCUMENT_11', 'FLAG_DOCUMENT_12',\n",
       "       'FLAG_DOCUMENT_13', 'FLAG_DOCUMENT_14', 'FLAG_DOCUMENT_15',\n",
       "       'FLAG_DOCUMENT_16', 'FLAG_DOCUMENT_17', 'FLAG_DOCUMENT_18',\n",
       "       'FLAG_DOCUMENT_19', 'FLAG_DOCUMENT_20', 'FLAG_DOCUMENT_21',\n",
       "       'AMT_REQ_CREDIT_BUREAU_HOUR', 'AMT_REQ_CREDIT_BUREAU_DAY',\n",
       "       'AMT_REQ_CREDIT_BUREAU_WEEK', 'AMT_REQ_CREDIT_BUREAU_MON',\n",
       "       'AMT_REQ_CREDIT_BUREAU_QRT', 'AMT_REQ_CREDIT_BUREAU_YEAR'],\n",
       "      dtype='object')"
      ]
     },
     "execution_count": 11,
     "metadata": {},
     "output_type": "execute_result"
    }
   ],
   "source": [
    "cols = credit_df.columns\n",
    "num_cols = credit_df._get_numeric_data().columns\n",
    "num_cols"
   ]
  },
  {
   "cell_type": "markdown",
   "metadata": {},
   "source": [
    "##### If numeric columns have NA's present, the median of that column will replace the missing value"
   ]
  },
  {
   "cell_type": "code",
   "execution_count": 12,
   "metadata": {},
   "outputs": [],
   "source": [
    "credit_df = credit_df.fillna(credit_df.median())"
   ]
  },
  {
   "cell_type": "markdown",
   "metadata": {},
   "source": [
    "##### Creating dummy variables out of the categorical numeric features"
   ]
  },
  {
   "cell_type": "code",
   "execution_count": 32,
   "metadata": {},
   "outputs": [
    {
     "data": {
      "image/png": "[encoded data removed]",
      "text/plain": [
       "<Figure size 432x288 with 2 Axes>"
      ]
     },
     "metadata": {
      "needs_background": "light"
     },
     "output_type": "display_data"
    }
   ],
   "source": [
    "REGION_RATING_CLIENT = pd.get_dummies(credit_df['REGION_RATING_CLIENT'], drop_first = True)\n",
    "REGION_RATING_CLIENT = REGION_RATING_CLIENT.rename(columns = {2:'rating_client2?', 3: 'rating_client3?'})\n",
    "REGION_RATING_CLIENT_W_CITY = pd.get_dummies(credit_df['REGION_RATING_CLIENT_W_CITY'], drop_first = True)\n",
    "REGION_RATING_CLIENT_W_CITY = REGION_RATING_CLIENT_W_CITY.rename(columns = {2:'rating_client_city2?',\n",
    "                                                                            3: 'rating_client_city3?'})\n",
    "dummies_region = pd.concat([REGION_RATING_CLIENT, REGION_RATING_CLIENT_W_CITY], axis = 1)\n",
    "corrMatrixDummy = dummies_region.corr()\n",
    "sn.heatmap(corrMatrixDummy, annot=False)\n",
    "plt.show()"
   ]
  },
  {
   "cell_type": "markdown",
   "metadata": {},
   "source": [
    "These dummy variables are correlated, so we will remove 'REGION_RATING_CLIENT_W_CITY' and only keep 'REGION_RATING_CLIENT'"
   ]
  },
  {
   "cell_type": "code",
   "execution_count": 34,
   "metadata": {},
   "outputs": [],
   "source": [
    "credit_df = credit_df.drop(['REGION_RATING_CLIENT_W_CITY', 'REGION_RATING_CLIENT'], axis = 1)\n",
    "credit_df = pd.concat([credit_df, REGION_RATING_CLIENT], axis = 1)"
   ]
  },
  {
   "cell_type": "markdown",
   "metadata": {},
   "source": [
    "##### Examining 'AMT_REQ_CREDIT_BUREAU' features"
   ]
  },
  {
   "cell_type": "code",
   "execution_count": 56,
   "metadata": {},
   "outputs": [
    {
     "data": {
      "image/png": "[encoded data removed]",
      "text/plain": [
       "<Figure size 432x288 with 6 Axes>"
      ]
     },
     "metadata": {
      "needs_background": "light"
     },
     "output_type": "display_data"
    }
   ],
   "source": [
    "fig, axs = plt.subplots(3, 2)\n",
    "axs[0, 0].hist(credit_df['AMT_REQ_CREDIT_BUREAU_WEEK'])\n",
    "axs[0, 0].set_title(\"AMT_REQ_CREDIT_BUREAU_WEEK\")\n",
    "axs[1, 0].hist(credit_df['AMT_REQ_CREDIT_BUREAU_DAY'])\n",
    "axs[1, 0].set_title(\"AMT_REQ_CREDIT_BUREAU_DAY\")\n",
    "axs[2, 0].hist(credit_df['AMT_REQ_CREDIT_BUREAU_HOUR'])\n",
    "axs[2, 0].set_title(\"AMT_REQ_CREDIT_BUREAU_HOUR\")\n",
    "axs[0, 1].hist(credit_df['AMT_REQ_CREDIT_BUREAU_MON'])\n",
    "axs[0, 1].set_title(\"AMT_REQ_CREDIT_BUREAU_MON\")\n",
    "axs[1, 1].hist(credit_df['AMT_REQ_CREDIT_BUREAU_QRT'])\n",
    "axs[1, 1].set_title(\"AMT_REQ_CREDIT_BUREAU_QRT\")\n",
    "axs[2, 1].hist(credit_df['AMT_REQ_CREDIT_BUREAU_YEAR'])\n",
    "axs[2, 1].set_title(\"AMT_REQ_CREDIT_BUREAU_YEAR\")\n",
    "fig.tight_layout()"
   ]
  },
  {
   "cell_type": "markdown",
   "metadata": {},
   "source": [
    "This features are highly skewed with values mostly only taking the value 0, so they will be removed. "
   ]
  },
  {
   "cell_type": "code",
   "execution_count": 57,
   "metadata": {},
   "outputs": [],
   "source": [
    "credit_df = credit_df.drop(['AMT_REQ_CREDIT_BUREAU_WEEK', 'AMT_REQ_CREDIT_BUREAU_DAY', \n",
    "                            'AMT_REQ_CREDIT_BUREAU_HOUR', 'AMT_REQ_CREDIT_BUREAU_MON',\n",
    "                            'AMT_REQ_CREDIT_BUREAU_QRT', 'AMT_REQ_CREDIT_BUREAU_YEAR'], axis = 1)"
   ]
  },
  {
   "cell_type": "markdown",
   "metadata": {},
   "source": [
    "#### Seeing which features are not numeric"
   ]
  },
  {
   "cell_type": "code",
   "execution_count": 58,
   "metadata": {},
   "outputs": [
    {
     "data": {
      "text/plain": [
       "['NAME_CONTRACT_TYPE',\n",
       " 'NAME_INCOME_TYPE',\n",
       " 'FLAG_OWN_REALTY',\n",
       " 'NAME_FAMILY_STATUS',\n",
       " 'WEEKDAY_APPR_PROCESS_START',\n",
       " 'NAME_HOUSING_TYPE',\n",
       " 'CODE_GENDER',\n",
       " 'NAME_TYPE_SUITE',\n",
       " 'NAME_EDUCATION_TYPE',\n",
       " 'ORGANIZATION_TYPE',\n",
       " 'FLAG_OWN_CAR']"
      ]
     },
     "execution_count": 58,
     "metadata": {},
     "output_type": "execute_result"
    }
   ],
   "source": [
    "col_char = list(set(cols) - set(num_cols))\n",
    "col_char"
   ]
  },
  {
   "cell_type": "markdown",
   "metadata": {},
   "source": [
    "#### Examinig which to make binary variables and which to make dummy variables"
   ]
  },
  {
   "cell_type": "code",
   "execution_count": 59,
   "metadata": {},
   "outputs": [
    {
     "name": "stdout",
     "output_type": "stream",
     "text": [
      "       NAME_CONTRACT_TYPE      NAME_INCOME_TYPE FLAG_OWN_REALTY  \\\n",
      "0              Cash loans               Working               Y   \n",
      "1              Cash loans         State servant               N   \n",
      "2         Revolving loans               Working               Y   \n",
      "3              Cash loans               Working               Y   \n",
      "4              Cash loans               Working               Y   \n",
      "...                   ...                   ...             ...   \n",
      "307506         Cash loans               Working               N   \n",
      "307507         Cash loans             Pensioner               Y   \n",
      "307508         Cash loans               Working               Y   \n",
      "307509         Cash loans  Commercial associate               Y   \n",
      "307510         Cash loans  Commercial associate               N   \n",
      "\n",
      "          NAME_FAMILY_STATUS WEEKDAY_APPR_PROCESS_START  NAME_HOUSING_TYPE  \\\n",
      "0       Single / not married                  WEDNESDAY  House / apartment   \n",
      "1                    Married                     MONDAY  House / apartment   \n",
      "2       Single / not married                     MONDAY  House / apartment   \n",
      "3             Civil marriage                  WEDNESDAY  House / apartment   \n",
      "4       Single / not married                   THURSDAY  House / apartment   \n",
      "...                      ...                        ...                ...   \n",
      "307506             Separated                   THURSDAY       With parents   \n",
      "307507                 Widow                     MONDAY  House / apartment   \n",
      "307508             Separated                   THURSDAY  House / apartment   \n",
      "307509               Married                  WEDNESDAY  House / apartment   \n",
      "307510               Married                   THURSDAY  House / apartment   \n",
      "\n",
      "       CODE_GENDER NAME_TYPE_SUITE            NAME_EDUCATION_TYPE  \\\n",
      "0                M   Unaccompanied  Secondary / secondary special   \n",
      "1                F          Family               Higher education   \n",
      "2                M   Unaccompanied  Secondary / secondary special   \n",
      "3                F   Unaccompanied  Secondary / secondary special   \n",
      "4                M   Unaccompanied  Secondary / secondary special   \n",
      "...            ...             ...                            ...   \n",
      "307506           M   Unaccompanied  Secondary / secondary special   \n",
      "307507           F   Unaccompanied  Secondary / secondary special   \n",
      "307508           F   Unaccompanied               Higher education   \n",
      "307509           F   Unaccompanied  Secondary / secondary special   \n",
      "307510           F   Unaccompanied               Higher education   \n",
      "\n",
      "             ORGANIZATION_TYPE FLAG_OWN_CAR  \n",
      "0       Business Entity Type 3            N  \n",
      "1                       School            N  \n",
      "2                   Government            Y  \n",
      "3       Business Entity Type 3            N  \n",
      "4                     Religion            N  \n",
      "...                        ...          ...  \n",
      "307506                Services            N  \n",
      "307507                     XNA            N  \n",
      "307508                  School            N  \n",
      "307509  Business Entity Type 1            N  \n",
      "307510  Business Entity Type 3            N  \n",
      "\n",
      "[307511 rows x 11 columns]\n"
     ]
    }
   ],
   "source": [
    "print(credit_df[col_char])"
   ]
  },
  {
   "cell_type": "markdown",
   "metadata": {},
   "source": [
    "##### Changing 'FLAG_OWN_CAR'"
   ]
  },
  {
   "cell_type": "code",
   "execution_count": 60,
   "metadata": {},
   "outputs": [],
   "source": [
    "boolian = []\n",
    "for i in credit_df['FLAG_OWN_CAR']:\n",
    "    if i == 'N':\n",
    "        boolian.append(0)\n",
    "    else:\n",
    "        boolian.append(1)\n",
    "\n",
    "credit_df['FLAG_OWN_CAR'] = pd.DataFrame(boolian, columns=['FLAG_OWN_CAR'])"
   ]
  },
  {
   "cell_type": "markdown",
   "metadata": {},
   "source": [
    "##### Changing 'CODE_GENDER' (Male = 0, Female = 1)"
   ]
  },
  {
   "cell_type": "code",
   "execution_count": 61,
   "metadata": {},
   "outputs": [],
   "source": [
    "boolian = []\n",
    "for i in credit_df['CODE_GENDER']:\n",
    "    if i == 'M':\n",
    "        boolian.append(0)\n",
    "    else:\n",
    "        boolian.append(1)\n",
    "\n",
    "credit_df['CODE_GENDER'] = pd.DataFrame(boolian, columns=['CODE_GENDER'])"
   ]
  },
  {
   "cell_type": "markdown",
   "metadata": {},
   "source": [
    "##### Changing 'FLAG_OWN_REALTY'"
   ]
  },
  {
   "cell_type": "code",
   "execution_count": 62,
   "metadata": {},
   "outputs": [],
   "source": [
    "boolian = []\n",
    "for i in credit_df['FLAG_OWN_REALTY']:\n",
    "    if i == 'N':\n",
    "        boolian.append(0)\n",
    "    else:\n",
    "        boolian.append(1)\n",
    "\n",
    "credit_df['FLAG_OWN_REALTY'] = pd.DataFrame(boolian, columns=['FLAG_OWN_REALTY'])"
   ]
  },
  {
   "cell_type": "markdown",
   "metadata": {},
   "source": [
    "##### Changing 'NAME_CONTRACT_TYPE' (Cash loans = 0, Revolving loans = 1)"
   ]
  },
  {
   "cell_type": "code",
   "execution_count": 63,
   "metadata": {},
   "outputs": [],
   "source": [
    "boolian = []\n",
    "for i in credit_df['NAME_CONTRACT_TYPE']:\n",
    "    if i == 'Cash loans':\n",
    "        boolian.append(0)\n",
    "    else:\n",
    "        boolian.append(1)\n",
    "\n",
    "credit_df['NAME_CONTRACT_TYPE'] = pd.DataFrame(boolian, columns=['NAME_CONTRACT_TYPE'])"
   ]
  },
  {
   "cell_type": "markdown",
   "metadata": {},
   "source": [
    "##### Replacing the remaining NA column with the mode for the non numeric feature"
   ]
  },
  {
   "cell_type": "code",
   "execution_count": 64,
   "metadata": {},
   "outputs": [],
   "source": [
    "credit_df['NAME_TYPE_SUITE'] = credit_df['NAME_TYPE_SUITE'].fillna(credit_df['NAME_TYPE_SUITE'].mode()[0])"
   ]
  },
  {
   "cell_type": "markdown",
   "metadata": {},
   "source": [
    "##### Making Dummy Variables out of the rest of the categorical columns and putting it into new data frame"
   ]
  },
  {
   "cell_type": "code",
   "execution_count": 65,
   "metadata": {},
   "outputs": [],
   "source": [
    "dummy_cols = ['NAME_TYPE_SUITE', 'NAME_EDUCATION_TYPE', 'ORGANIZATION_TYPE', 'NAME_HOUSING_TYPE', \n",
    "              'NAME_FAMILY_STATUS', 'NAME_INCOME_TYPE', 'WEEKDAY_APPR_PROCESS_START']\n",
    "\n",
    "count = 0\n",
    "for i in dummy_cols:\n",
    "    count = count + 1\n",
    "    if count == 1:\n",
    "        dummies_new = pd.get_dummies(credit_df[i], drop_first=True)\n",
    "    else:\n",
    "        dummies = pd.get_dummies(credit_df[i], drop_first=True)\n",
    "        dummies_new = pd.concat([dummies_new, dummies], axis = 1)"
   ]
  },
  {
   "cell_type": "markdown",
   "metadata": {},
   "source": [
    "##### Removing old categorical features and adding dummy data frame"
   ]
  },
  {
   "cell_type": "code",
   "execution_count": 66,
   "metadata": {},
   "outputs": [],
   "source": [
    "credit_df = credit_df.drop(dummy_cols, axis = 1)\n",
    "credit_df = pd.concat([dummies_new, credit_df], axis = 1)"
   ]
  },
  {
   "cell_type": "markdown",
   "metadata": {},
   "source": [
    "#### Finding features which are not binary and looking at correlation"
   ]
  },
  {
   "cell_type": "code",
   "execution_count": 74,
   "metadata": {},
   "outputs": [],
   "source": [
    "col_name = []\n",
    "for i in credit_df.columns:\n",
    "    if len(credit_df[i].unique()) > 2:\n",
    "        col_name.append(i)"
   ]
  },
  {
   "cell_type": "code",
   "execution_count": 87,
   "metadata": {},
   "outputs": [
    {
     "data": {
      "image/png": "[encoded data removed]",
      "text/plain": [
       "<Figure size 432x288 with 2 Axes>"
      ]
     },
     "metadata": {
      "needs_background": "light"
     },
     "output_type": "display_data"
    }
   ],
   "source": [
    "not_binary = credit_df[col_name]\n",
    "corrMatrix = not_binary.corr()\n",
    "sn.heatmap(corrMatrix, annot=False)\n",
    "plt.show()"
   ]
  },
  {
   "cell_type": "markdown",
   "metadata": {},
   "source": [
    "After looking at the plot, the correlated features that can be removed are 'OBS_60_CNT_SOCIAL_CIRCLE', 'DEF_60_CNT_SOCIAL_CIRCLE', 'AMT_GOODS_PRICE', 'AMT_ANNUITY', and 'CNT_FAM_MEMBERS'. "
   ]
  },
  {
   "cell_type": "code",
   "execution_count": 88,
   "metadata": {},
   "outputs": [],
   "source": [
    "credit_df = credit_df.drop([ 'OBS_60_CNT_SOCIAL_CIRCLE', 'DEF_60_CNT_SOCIAL_CIRCLE', 'AMT_GOODS_PRICE', \n",
    "                            'AMT_ANNUITY', 'CNT_FAM_MEMBERS'], axis = 1)"
   ]
  },
  {
   "cell_type": "code",
   "execution_count": 90,
   "metadata": {},
   "outputs": [
    {
     "data": {
      "text/plain": [
       "(307511, 143)"
      ]
     },
     "execution_count": 90,
     "metadata": {},
     "output_type": "execute_result"
    }
   ],
   "source": [
    "credit_df.shape"
   ]
  },
  {
   "cell_type": "code",
   "execution_count": null,
   "metadata": {},
   "outputs": [],
   "source": []
  }
 ],
 "metadata": {
  "kernelspec": {
   "display_name": "Python 3",
   "language": "python",
   "name": "python3"
  },
  "language_info": {
   "codemirror_mode": {
    "name": "ipython",
    "version": 3
   },
   "file_extension": ".py",
   "mimetype": "text/x-python",
   "name": "python",
   "nbconvert_exporter": "python",
   "pygments_lexer": "ipython3",
   "version": "3.7.8"
  }
 },
 "nbformat": 4,
 "nbformat_minor": 4
}
