{
 "cells": [
  {
   "cell_type": "markdown",
   "metadata": {},
   "source": [
    "## Appendix B: Models and Evaluation Metrics"
   ]
  },
  {
   "cell_type": "markdown",
   "metadata": {},
   "source": [
    "### Libraries"
   ]
  },
  {
   "cell_type": "code",
   "execution_count": 91,
   "metadata": {},
   "outputs": [],
   "source": [
    "import pandas as pd\n",
    "from statistics import mode\n",
    "import os\n",
    "import seaborn as sn\n",
    "import matplotlib.pylab as plt\n",
    "from imblearn.combine import SMOTETomek\n",
    "from imblearn.under_sampling import TomekLinks\n",
    "from imblearn.under_sampling import RandomUnderSampler\n",
    "from sklearn.metrics import precision_score\n",
    "from sklearn.metrics import recall_score\n",
    "from sklearn.metrics import f1_score\n",
    "from sklearn.metrics import roc_auc_score\n",
    "from sklearn.model_selection import train_test_split, GridSearchCV\n",
    "from sklearn.linear_model import LogisticRegression\n",
    "from sklearn.ensemble import BaggingClassifier\n",
    "from sklearn.ensemble import AdaBoostClassifier\n",
    "from sklearn.ensemble import RandomForestClassifier\n",
    "from dmba import classificationSummary, gainsChart\n",
    "from sklearn.discriminant_analysis import LinearDiscriminantAnalysis\n",
    "from sklearn.neural_network import MLPClassifier\n",
    "from sklearn.metrics import roc_curve, auc"
   ]
  },
  {
   "cell_type": "markdown",
   "metadata": {},
   "source": [
    "### Loading in Data"
   ]
  },
  {
   "cell_type": "code",
   "execution_count": 2,
   "metadata": {},
   "outputs": [],
   "source": [
    "DATA_ROOT = 'C:/Users/mzazu/OneDrive/Documents/USD papers/505/505Project/application_train.csv'\n",
    "credit_df = pd.read_csv(os.path.join(DATA_ROOT, 'credit_df.csv'))"
   ]
  },
  {
   "cell_type": "markdown",
   "metadata": {},
   "source": [
    "### Modeling"
   ]
  },
  {
   "cell_type": "markdown",
   "metadata": {},
   "source": [
    "#### Partition the dataset into 60% training, 20% validation, and 20% test"
   ]
  },
  {
   "cell_type": "code",
   "execution_count": 3,
   "metadata": {},
   "outputs": [],
   "source": [
    "X = credit_df.drop(columns=['TARGET'])\n",
    "y = credit_df['TARGET']\n",
    "train_X, rem_X, train_y, rem_y = train_test_split(X, y, train_size=0.6, random_state=42, stratify = y)\n",
    "valid_X, test_X, valid_y, test_y = train_test_split(rem_X, rem_y, train_size=0.5, random_state=42, stratify = rem_y)"
   ]
  },
  {
   "cell_type": "code",
   "execution_count": 12,
   "metadata": {},
   "outputs": [
    {
     "name": "stdout",
     "output_type": "stream",
     "text": [
      "Training Set:\n",
      " 0    169611\n",
      "1     14895\n",
      "Name: TARGET, dtype: int64 \n",
      " 0    0.919271\n",
      "1    0.080729\n",
      "Name: TARGET, dtype: float64\n",
      "\n",
      "Validation Set:\n",
      " 0    56537\n",
      "1     4965\n",
      "Name: TARGET, dtype: int64 \n",
      " 0    0.919271\n",
      "1    0.080729\n",
      "Name: TARGET, dtype: float64\n",
      "\n",
      "Test Set:\n",
      " 0    56538\n",
      "1     4965\n",
      "Name: TARGET, dtype: int64 \n",
      " 0    0.919272\n",
      "1    0.080728\n",
      "Name: TARGET, dtype: float64\n"
     ]
    }
   ],
   "source": [
    "print('Training Set:\\n', train_y.value_counts(), '\\n', train_y.value_counts(normalize = True))\n",
    "print('\\nValidation Set:\\n', valid_y.value_counts(), '\\n', valid_y.value_counts(normalize = True))\n",
    "print('\\nTest Set:\\n', test_y.value_counts(), '\\n', test_y.value_counts(normalize = True))"
   ]
  },
  {
   "cell_type": "markdown",
   "metadata": {},
   "source": [
    "##### Resampling training set"
   ]
  },
  {
   "cell_type": "code",
   "execution_count": 4,
   "metadata": {},
   "outputs": [
    {
     "name": "stdout",
     "output_type": "stream",
     "text": [
      "Original dataset shape:\n",
      " 0    169611\n",
      "1     14895\n",
      "Name: TARGET, dtype: int64\n",
      "Resampled dataset shape:\n",
      " 1    166796\n",
      "0    166796\n",
      "Name: TARGET, dtype: int64\n"
     ]
    }
   ],
   "source": [
    "# Fixing the class imbalance with tomekLinks and SMOTE\n",
    "SMOTEtl = SMOTETomek(random_state = 42)\n",
    "\n",
    "# fit predictor and target variable for training set only\n",
    "train_X_res, train_y_res = SMOTEtl.fit_resample(train_X, train_y)\n",
    "\n",
    "print('Original dataset shape:\\n', train_y.value_counts())\n",
    "print('Resampled dataset shape:\\n', train_y_res.value_counts())"
   ]
  },
  {
   "cell_type": "markdown",
   "metadata": {},
   "source": [
    "##### Helper function"
   ]
  },
  {
   "cell_type": "code",
   "execution_count": 5,
   "metadata": {},
   "outputs": [],
   "source": [
    "def confusionMatrices(model, title):\n",
    "    print(title + ' - training results')\n",
    "    classificationSummary(train_y_res, model.predict(train_X_res))\n",
    "    print(title + ' - validation results')\n",
    "    valid_pred = model.predict(valid_X)\n",
    "    classificationSummary(valid_y, valid_pred)"
   ]
  },
  {
   "cell_type": "markdown",
   "metadata": {},
   "source": [
    "#### Logistic regression"
   ]
  },
  {
   "cell_type": "code",
   "execution_count": 59,
   "metadata": {},
   "outputs": [
    {
     "name": "stdout",
     "output_type": "stream",
     "text": [
      "Logistic regression - training results\n",
      "Confusion Matrix (Accuracy 0.5486)\n",
      "\n",
      "       Prediction\n",
      "Actual     0     1\n",
      "     0 98161 68635\n",
      "     1 81962 84834\n",
      "Logistic regression - validation results\n",
      "Confusion Matrix (Accuracy 0.5796)\n",
      "\n",
      "       Prediction\n",
      "Actual     0     1\n",
      "     0 33071 23466\n",
      "     1  2388  2577\n"
     ]
    }
   ],
   "source": [
    "logit_reg = LogisticRegression(penalty=\"l2\", C=1e42, solver='liblinear', random_state = 1)\n",
    "logit_reg.fit(train_X_res, train_y_res)\n",
    "confusionMatrices(logit_reg, 'Logistic regression')"
   ]
  },
  {
   "cell_type": "markdown",
   "metadata": {},
   "source": [
    "##### Test Set"
   ]
  },
  {
   "cell_type": "code",
   "execution_count": 60,
   "metadata": {},
   "outputs": [
    {
     "name": "stdout",
     "output_type": "stream",
     "text": [
      "Confusion Matrix (Accuracy 0.5789)\n",
      "\n",
      "       Prediction\n",
      "Actual     0     1\n",
      "     0 33031 23507\n",
      "     1  2394  2571\n"
     ]
    }
   ],
   "source": [
    "logit_pred = logit_reg.predict(test_X)\n",
    "classificationSummary(test_y, logit_pred)"
   ]
  },
  {
   "cell_type": "markdown",
   "metadata": {},
   "source": [
    "##### Evaluation Metrics"
   ]
  },
  {
   "cell_type": "code",
   "execution_count": 61,
   "metadata": {},
   "outputs": [
    {
     "name": "stdout",
     "output_type": "stream",
     "text": [
      "Precision: 0.098589\n",
      "Recall: 0.517825\n",
      "F1 score: 0.165641\n",
      "ROC AUC: 0.568793\n"
     ]
    }
   ],
   "source": [
    "# precision tp / (tp + fp)\n",
    "precision = precision_score(test_y, logit_pred)\n",
    "print('Precision: %f' % precision)\n",
    "# recall: tp / (tp + fn)\n",
    "recall = recall_score(test_y, logit_pred)\n",
    "print('Recall: %f' % recall)\n",
    "# f1: 2 tp / (2 tp + fp + fn)\n",
    "f1 = f1_score(test_y, logit_pred)\n",
    "print('F1 score: %f' % f1)\n",
    "# ROC AUC\n",
    "lr_probs = logit_reg.predict_proba(test_X)\n",
    "lr_probs = lr_probs[:, 1]\n",
    "auc = roc_auc_score(test_y, lr_probs)\n",
    "print('ROC AUC: %f' % auc)"
   ]
  },
  {
   "cell_type": "markdown",
   "metadata": {},
   "source": [
    "#### Bagging"
   ]
  },
  {
   "cell_type": "code",
   "execution_count": 56,
   "metadata": {},
   "outputs": [
    {
     "name": "stdout",
     "output_type": "stream",
     "text": [
      "Bagged Decision tree - training results\n",
      "Confusion Matrix (Accuracy 0.9759)\n",
      "\n",
      "       Prediction\n",
      "Actual      0      1\n",
      "     0 166685    111\n",
      "     1   7936 158860\n",
      "Bagged Decision tree - validation results\n",
      "Confusion Matrix (Accuracy 0.9124)\n",
      "\n",
      "       Prediction\n",
      "Actual     0     1\n",
      "     0 55992   545\n",
      "     1  4841   124\n"
     ]
    }
   ],
   "source": [
    "bagging = BaggingClassifier( max_samples=0.5, max_features=0.5, random_state = 1)\n",
    "bagging.fit(train_X_res, train_y_res)\n",
    "confusionMatrices(bagging, 'Bagged Decision tree')"
   ]
  },
  {
   "cell_type": "markdown",
   "metadata": {},
   "source": [
    "##### Test Set"
   ]
  },
  {
   "cell_type": "code",
   "execution_count": 57,
   "metadata": {},
   "outputs": [
    {
     "name": "stdout",
     "output_type": "stream",
     "text": [
      "Confusion Matrix (Accuracy 0.9130)\n",
      "\n",
      "       Prediction\n",
      "Actual     0     1\n",
      "     0 56033   505\n",
      "     1  4845   120\n"
     ]
    }
   ],
   "source": [
    "bagging_pred = bagging.predict(test_X)\n",
    "classificationSummary(test_y, bagging_pred)"
   ]
  },
  {
   "cell_type": "markdown",
   "metadata": {},
   "source": [
    "##### Evaluation Metrics"
   ]
  },
  {
   "cell_type": "code",
   "execution_count": 58,
   "metadata": {},
   "outputs": [
    {
     "name": "stdout",
     "output_type": "stream",
     "text": [
      "Precision: 0.192000\n",
      "Recall: 0.024169\n",
      "F1 score: 0.042934\n",
      "ROC AUC: 0.598841\n"
     ]
    }
   ],
   "source": [
    "# precision tp / (tp + fp)\n",
    "precision = precision_score(test_y, bagging_pred)\n",
    "print('Precision: %f' % precision)\n",
    "# recall: tp / (tp + fn)\n",
    "recall = recall_score(test_y, bagging_pred)\n",
    "print('Recall: %f' % recall)\n",
    "# f1: 2 tp / (2 tp + fp + fn)\n",
    "f1 = f1_score(test_y, bagging_pred)\n",
    "print('F1 score: %f' % f1)\n",
    "# ROC AUC\n",
    "bg_probs = bagging.predict_proba(test_X)\n",
    "bg_probs = bg_probs[:, 1]\n",
    "auc = roc_auc_score(test_y, bg_probs)\n",
    "print('ROC AUC: %f' % auc)"
   ]
  },
  {
   "cell_type": "markdown",
   "metadata": {},
   "source": [
    "#### Adaboost"
   ]
  },
  {
   "cell_type": "code",
   "execution_count": 53,
   "metadata": {},
   "outputs": [
    {
     "name": "stdout",
     "output_type": "stream",
     "text": [
      "Boosted decision tree - training results\n",
      "Confusion Matrix (Accuracy 0.9142)\n",
      "\n",
      "       Prediction\n",
      "Actual      0      1\n",
      "     0 153429  13367\n",
      "     1  15255 151541\n",
      "Boosted decision tree - validation results\n",
      "Confusion Matrix (Accuracy 0.8595)\n",
      "\n",
      "       Prediction\n",
      "Actual     0     1\n",
      "     0 52016  4521\n",
      "     1  4120   845\n"
     ]
    }
   ],
   "source": [
    "adaboost = AdaBoostClassifier(n_estimators=50,  random_state = 1)\n",
    "adaboost.fit(train_X_res, train_y_res)\n",
    "confusionMatrices(adaboost, 'Boosted decision tree')"
   ]
  },
  {
   "cell_type": "markdown",
   "metadata": {},
   "source": [
    "##### Test Set"
   ]
  },
  {
   "cell_type": "code",
   "execution_count": 54,
   "metadata": {},
   "outputs": [
    {
     "name": "stdout",
     "output_type": "stream",
     "text": [
      "Confusion Matrix (Accuracy 0.8609)\n",
      "\n",
      "       Prediction\n",
      "Actual     0     1\n",
      "     0 52112  4426\n",
      "     1  4127   838\n"
     ]
    }
   ],
   "source": [
    "adaboost_pred = adaboost.predict(test_X)\n",
    "classificationSummary(test_y, adaboost_pred)"
   ]
  },
  {
   "cell_type": "markdown",
   "metadata": {},
   "source": [
    "##### Evaluation Metrics"
   ]
  },
  {
   "cell_type": "code",
   "execution_count": 55,
   "metadata": {},
   "outputs": [
    {
     "name": "stdout",
     "output_type": "stream",
     "text": [
      "Precision: 0.159195\n",
      "Recall: 0.168781\n",
      "F1 score: 0.163848\n",
      "ROC AUC: 0.655630\n"
     ]
    }
   ],
   "source": [
    "# precision tp / (tp + fp)\n",
    "precision = precision_score(test_y, adaboost_pred)\n",
    "print('Precision: %f' % precision)\n",
    "# recall: tp / (tp + fn)\n",
    "recall = recall_score(test_y, adaboost_pred)\n",
    "print('Recall: %f' % recall)\n",
    "# f1: 2 tp / (2 tp + fp + fn)\n",
    "f1 = f1_score(test_y, adaboost_pred)\n",
    "print('F1 score: %f' % f1)\n",
    "# ROC AUC\n",
    "ab_probs = adaboost.predict_proba(test_X)\n",
    "ab_probs = ab_probs[:, 1]\n",
    "auc = roc_auc_score(test_y, ab_probs)\n",
    "print('ROC AUC: %f' % auc)"
   ]
  },
  {
   "cell_type": "markdown",
   "metadata": {},
   "source": [
    "#### Random Forest"
   ]
  },
  {
   "cell_type": "code",
   "execution_count": 30,
   "metadata": {},
   "outputs": [
    {
     "name": "stdout",
     "output_type": "stream",
     "text": [
      "Random Forest - training results\n",
      "Confusion Matrix (Accuracy 0.8906)\n",
      "\n",
      "       Prediction\n",
      "Actual      0      1\n",
      "     0 151105  15691\n",
      "     1  20812 145984\n",
      "Random Forest - validation results\n",
      "Confusion Matrix (Accuracy 0.8489)\n",
      "\n",
      "       Prediction\n",
      "Actual     0     1\n",
      "     0 51139  5398\n",
      "     1  3895  1070\n"
     ]
    }
   ],
   "source": [
    "RandomForest = RandomForestClassifier(n_estimators=500, random_state=1, max_depth = 6)\n",
    "RandomForest.fit(train_X_res, train_y_res)\n",
    "confusionMatrices(RandomForest, 'Random Forest')"
   ]
  },
  {
   "cell_type": "markdown",
   "metadata": {},
   "source": [
    "##### Test Set"
   ]
  },
  {
   "cell_type": "code",
   "execution_count": 31,
   "metadata": {},
   "outputs": [
    {
     "name": "stdout",
     "output_type": "stream",
     "text": [
      "Confusion Matrix (Accuracy 0.8522)\n",
      "\n",
      "       Prediction\n",
      "Actual     0     1\n",
      "     0 51309  5229\n",
      "     1  3860  1105\n"
     ]
    }
   ],
   "source": [
    "RandomForest_pred = RandomForest.predict(test_X)\n",
    "classificationSummary(test_y, RandomForest_pred)"
   ]
  },
  {
   "cell_type": "markdown",
   "metadata": {},
   "source": [
    "##### Evaluation Metrics"
   ]
  },
  {
   "cell_type": "code",
   "execution_count": 51,
   "metadata": {},
   "outputs": [
    {
     "name": "stdout",
     "output_type": "stream",
     "text": [
      "Precision: 0.174455\n",
      "Recall: 0.222558\n",
      "F1 score: 0.195593\n",
      "ROC AUC: 0.668388\n"
     ]
    }
   ],
   "source": [
    "# precision tp / (tp + fp)\n",
    "precision = precision_score(test_y, RandomForest_pred)\n",
    "print('Precision: %f' % precision)\n",
    "# recall: tp / (tp + fn)\n",
    "recall = recall_score(test_y, RandomForest_pred)\n",
    "print('Recall: %f' % recall)\n",
    "# f1: 2 tp / (2 tp + fp + fn)\n",
    "f1 = f1_score(test_y, RandomForest_pred)\n",
    "print('F1 score: %f' % f1)\n",
    "# ROC AUC\n",
    "rf_probs = RandomForest.predict_proba(test_X)\n",
    "rf_probs = rf_probs[:, 1]\n",
    "auc = roc_auc_score(test_y, rf_probs)\n",
    "print('ROC AUC: %f' % auc)"
   ]
  },
  {
   "cell_type": "markdown",
   "metadata": {},
   "source": [
    "#### Linear discriminant analysis\n"
   ]
  },
  {
   "cell_type": "code",
   "execution_count": 62,
   "metadata": {},
   "outputs": [
    {
     "name": "stdout",
     "output_type": "stream",
     "text": [
      "Linear discriminant analysis - training results\n",
      "Confusion Matrix (Accuracy 0.9421)\n",
      "\n",
      "       Prediction\n",
      "Actual      0      1\n",
      "     0 165581   1215\n",
      "     1  18096 148700\n",
      "Linear discriminant analysis - validation results\n",
      "Confusion Matrix (Accuracy 0.9144)\n",
      "\n",
      "       Prediction\n",
      "Actual     0     1\n",
      "     0 56122   415\n",
      "     1  4850   115\n"
     ]
    }
   ],
   "source": [
    "lda_Model = LinearDiscriminantAnalysis()\n",
    "lda_Model.fit(train_X_res, train_y_res)\n",
    "confusionMatrices(lda_Model, 'Linear discriminant analysis')"
   ]
  },
  {
   "cell_type": "markdown",
   "metadata": {},
   "source": [
    "##### Test Set"
   ]
  },
  {
   "cell_type": "code",
   "execution_count": 63,
   "metadata": {},
   "outputs": [
    {
     "name": "stdout",
     "output_type": "stream",
     "text": [
      "Confusion Matrix (Accuracy 0.9147)\n",
      "\n",
      "       Prediction\n",
      "Actual     0     1\n",
      "     0 56149   389\n",
      "     1  4856   109\n"
     ]
    }
   ],
   "source": [
    "lda_Model_pred = lda_Model.predict(test_X)\n",
    "classificationSummary(test_y, lda_Model_pred)"
   ]
  },
  {
   "cell_type": "markdown",
   "metadata": {},
   "source": [
    "##### Evaluation Metrics"
   ]
  },
  {
   "cell_type": "code",
   "execution_count": 64,
   "metadata": {},
   "outputs": [
    {
     "name": "stdout",
     "output_type": "stream",
     "text": [
      "Precision: 0.218876\n",
      "Recall: 0.021954\n",
      "F1 score: 0.039905\n",
      "ROC AUC: 0.639864\n"
     ]
    }
   ],
   "source": [
    "# precision tp / (tp + fp)\n",
    "precision = precision_score(test_y, lda_Model_pred )\n",
    "print('Precision: %f' % precision)\n",
    "# recall: tp / (tp + fn)\n",
    "recall = recall_score(test_y, lda_Model_pred )\n",
    "print('Recall: %f' % recall)\n",
    "# f1: 2 tp / (2 tp + fp + fn)\n",
    "f1 = f1_score(test_y, lda_Model_pred )\n",
    "print('F1 score: %f' % f1)\n",
    "# ROC AUC\n",
    "lda_probs = lda_Model.predict_proba(test_X)\n",
    "lda_probs = lda_probs[:, 1]\n",
    "auc = roc_auc_score(test_y, lda_probs)\n",
    "print('ROC AUC: %f' % auc)"
   ]
  },
  {
   "cell_type": "markdown",
   "metadata": {},
   "source": [
    "#### Neural Network"
   ]
  },
  {
   "cell_type": "code",
   "execution_count": 10,
   "metadata": {},
   "outputs": [
    {
     "name": "stdout",
     "output_type": "stream",
     "text": [
      "Neural Network - training results\n",
      "Confusion Matrix (Accuracy 0.5389)\n",
      "\n",
      "       Prediction\n",
      "Actual      0      1\n",
      "     0  63794 103002\n",
      "     1  50827 115969\n",
      "Neural Network - validation results\n",
      "Confusion Matrix (Accuracy 0.4064)\n",
      "\n",
      "       Prediction\n",
      "Actual     0     1\n",
      "     0 21588 34949\n",
      "     1  1556  3409\n"
     ]
    }
   ],
   "source": [
    "neuralNet = MLPClassifier(hidden_layer_sizes=(5), activation='logistic', solver='lbfgs', max_iter=2000, \n",
    "                          random_state=1)\n",
    "neuralNet.fit(train_X_res, train_y_res)\n",
    "confusionMatrices(neuralNet, 'Neural Network')"
   ]
  },
  {
   "cell_type": "markdown",
   "metadata": {},
   "source": [
    "##### Test Set"
   ]
  },
  {
   "cell_type": "code",
   "execution_count": 11,
   "metadata": {},
   "outputs": [
    {
     "name": "stdout",
     "output_type": "stream",
     "text": [
      "Confusion Matrix (Accuracy 0.4112)\n",
      "\n",
      "       Prediction\n",
      "Actual     0     1\n",
      "     0 21822 34716\n",
      "     1  1499  3466\n"
     ]
    }
   ],
   "source": [
    "neuralNet_pred = neuralNet.predict(test_X)\n",
    "classificationSummary(test_y, neuralNet_pred )"
   ]
  },
  {
   "cell_type": "markdown",
   "metadata": {},
   "source": [
    "##### Evaluation Metrics"
   ]
  },
  {
   "cell_type": "code",
   "execution_count": 65,
   "metadata": {},
   "outputs": [
    {
     "name": "stdout",
     "output_type": "stream",
     "text": [
      "Precision: 0.090776\n",
      "Recall: 0.698087\n",
      "F1 score: 0.160660\n",
      "ROC AUC: 0.542171\n"
     ]
    }
   ],
   "source": [
    "# precision tp / (tp + fp)\n",
    "precision = precision_score(test_y, neuralNet_pred )\n",
    "print('Precision: %f' % precision)\n",
    "# recall: tp / (tp + fn)\n",
    "recall = recall_score(test_y, neuralNet_pred )\n",
    "print('Recall: %f' % recall)\n",
    "# f1: 2 tp / (2 tp + fp + fn)\n",
    "f1 = f1_score(test_y, neuralNet_pred )\n",
    "print('F1 score: %f' % f1)\n",
    "# ROC AUC\n",
    "nn_probs = neuralNet.predict_proba(test_X)\n",
    "nn_probs = nn_probs[:, 1]\n",
    "auc = roc_auc_score(test_y, nn_probs)\n",
    "print('ROC AUC: %f' % auc)"
   ]
  },
  {
   "cell_type": "markdown",
   "metadata": {},
   "source": [
    "### Final Model Selection: Random Forest"
   ]
  },
  {
   "cell_type": "markdown",
   "metadata": {},
   "source": [
    "#### ROC Curve"
   ]
  },
  {
   "cell_type": "code",
   "execution_count": 49,
   "metadata": {},
   "outputs": [
    {
     "name": "stdout",
     "output_type": "stream",
     "text": [
      "No Skill: ROC AUC=0.500\n",
      "Random Forest: ROC AUC=0.668\n"
     ]
    },
    {
     "data": {
      "image/png": "[encoded data removed]",
      "text/plain": [
       "<Figure size 432x288 with 1 Axes>"
      ]
     },
     "metadata": {
      "needs_background": "light"
     },
     "output_type": "display_data"
    }
   ],
   "source": [
    "# generate a no skill prediction (majority class)\n",
    "ns_probs = [0 for _ in range(len(test_y))]\n",
    "# calculate scores\n",
    "ns_auc = roc_auc_score(test_y, ns_probs)\n",
    "rf_auc = roc_auc_score(test_y, rf_probs)\n",
    "# summarize scores\n",
    "print('No Skill: ROC AUC=%.3f' % (ns_auc))\n",
    "print('Random Forest: ROC AUC=%.3f' % (rf_auc))\n",
    "# calculate roc curves\n",
    "ns_fpr, ns_tpr, _ = roc_curve(test_y, ns_probs)\n",
    "lr_fpr, lr_tpr, _ = roc_curve(test_y, rf_probs)\n",
    "# plot the roc curve for the model\n",
    "plt.plot(ns_fpr, ns_tpr, linestyle='--', label='No Skill')\n",
    "plt.plot(lr_fpr, lr_tpr, marker='.', label='Random Forest')\n",
    "# axis labels\n",
    "plt.xlabel('False Positive Rate')\n",
    "plt.ylabel('True Positive Rate')\n",
    "# show the legend\n",
    "plt.legend()\n",
    "# show the plot\n",
    "plt.show()"
   ]
  },
  {
   "cell_type": "markdown",
   "metadata": {},
   "source": [
    "#### Lift Charts"
   ]
  },
  {
   "cell_type": "code",
   "execution_count": 93,
   "metadata": {},
   "outputs": [
    {
     "data": {
      "text/plain": [
       "<AxesSubplot:title={'center':'Bagging'}, xlabel='# records', ylabel='# cumulative gains'>"
      ]
     },
     "execution_count": 93,
     "metadata": {},
     "output_type": "execute_result"
    },
    {
     "data": {
      "image/png": "[encoded data removed]",
      "text/plain": [
       "<Figure size 864x864 with 6 Axes>"
      ]
     },
     "metadata": {
      "needs_background": "light"
     },
     "output_type": "display_data"
    }
   ],
   "source": [
    "fig, axes = plt.subplots(nrows=2, ncols=3, figsize=(12, 12))\n",
    "\n",
    "def modelGainsChart(model, title, ax=None):\n",
    "    result = pd.DataFrame({\n",
    "        'actual': test_y,\n",
    "        'prob': model.predict_proba(test_X)[:, 1]\n",
    "    })\n",
    "\n",
    "    result = result.sort_values(by=['prob'], ascending=False).reset_index(drop=True)\n",
    "    ax = gainsChart(result.actual, ax=ax)\n",
    "    ax.set_title(title)\n",
    "    return ax\n",
    "\n",
    "modelGainsChart(RandomForest, 'Random Forest', axes[0,0])\n",
    "modelGainsChart(lda_Model, 'Linear Discriminant Analysis', axes[0,1])\n",
    "modelGainsChart(logit_reg, 'Logistic regression', axes[0,2])\n",
    "modelGainsChart(neuralNet, 'Neural network', axes[1,0])\n",
    "modelGainsChart(adaboost, 'Adaboost', axes[1,1])\n",
    "modelGainsChart(bagging, 'Bagging', axes[1,2])"
   ]
  },
  {
   "cell_type": "code",
   "execution_count": null,
   "metadata": {},
   "outputs": [],
   "source": []
  }
 ],
 "metadata": {
  "kernelspec": {
   "display_name": "Python 3",
   "language": "python",
   "name": "python3"
  },
  "language_info": {
   "codemirror_mode": {
    "name": "ipython",
    "version": 3
   },
   "file_extension": ".py",
   "mimetype": "text/x-python",
   "name": "python",
   "nbconvert_exporter": "python",
   "pygments_lexer": "ipython3",
   "version": "3.7.8"
  }
 },
 "nbformat": 4,
 "nbformat_minor": 4
}
